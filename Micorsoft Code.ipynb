{
 "cells": [
  {
   "cell_type": "code",
   "execution_count": 1,
   "metadata": {},
   "outputs": [],
   "source": [
    "import pandas as pd\n",
    "import matplotlib.pyplot as plt\n",
    "\n",
    "import warnings\n",
    "warnings.filterwarnings('ignore')\n",
    "\n",
    "\n",
    "microsoft_data=pd.read_csv('Microsoft_Data.csv')\n",
    "\n",
    "\n"
   ]
  },
  {
   "cell_type": "code",
   "execution_count": 12,
   "metadata": {},
   "outputs": [
    {
     "name": "stdout",
     "output_type": "stream",
     "text": [
      "p-value: 1.434114178500418e-17\n"
     ]
    }
   ],
   "source": [
    "# chi2 square test between OsBuild and HasDetections\n",
    "\n",
    "from scipy.stats import chi2_contingency\n",
    "\n",
    "contingency_table= pd.crosstab(microsoft_data['OsBuild'],microsoft_data['HasDetections'])\n",
    "\n",
    "results=chi2_contingency(contingency_table)\n",
    "\n",
    "\n",
    "print('p-value:',results[1])\n",
    "\n",
    "\n"
   ]
  },
  {
   "cell_type": "code",
   "execution_count": 3,
   "metadata": {},
   "outputs": [],
   "source": [
    "cols_to_drop=[]\n",
    "\n",
    "cols_with_na_grt_50=list(missing_value_percentage_df[missing_value_percentage_df['Missing_value_percentage']>50].index)\n",
    "\n",
    "for col in microsoft_data.columns:\n",
    "    if microsoft_data[col].nunique()==microsoft_data.shape[0] or microsoft_data[col].nunique()==1:\n",
    "        cols_to_drop.append(col)\n",
    "        \n",
    "\n",
    "columns_to_drop=cols_to_drop+cols_with_na_grt_50\n",
    "\n",
    "microsoft_data.drop(columns=columns_to_drop,inplace=True)\n"
   ]
  },
  {
   "cell_type": "code",
   "execution_count": 4,
   "metadata": {},
   "outputs": [
    {
     "data": {
      "text/plain": [
       "dtype('float64')"
      ]
     },
     "execution_count": 4,
     "metadata": {},
     "output_type": "execute_result"
    }
   ],
   "source": [
    "for col in microsoft_data.columns:\n",
    "    if col!='Census_InternalPrimaryDiagonalDisplaySizeInInches':\n",
    "        microsoft_data[col]=microsoft_data[col].astype(object)\n",
    "        \n",
    "microsoft_data['Census_InternalPrimaryDiagonalDisplaySizeInInches'].dtype\n"
   ]
  },
  {
   "cell_type": "code",
   "execution_count": 5,
   "metadata": {},
   "outputs": [
    {
     "name": "stdout",
     "output_type": "stream",
     "text": [
      "[    0     1     2 ... 56753 56754 56755] [    8    11    21 ... 56740 56747 56748]\n",
      "[    0     1     2 ... 56752 56753 56755] [    4     7     9 ... 56743 56749 56754]\n",
      "[    0     2     4 ... 56753 56754 56755] [    1     3    20 ... 56741 56744 56746]\n",
      "[    1     3     4 ... 56753 56754 56755] [    0     2    10 ... 56734 56750 56751]\n",
      "[    0     1     2 ... 56750 56751 56754] [    5     6    12 ... 56752 56753 56755]\n"
     ]
    }
   ],
   "source": [
    "# Demonstration of  KFoldCV \n",
    "\n",
    "from sklearn.model_selection import KFold\n",
    "\n",
    "kf=KFold(n_splits=5,shuffle=True)\n",
    "\n",
    "for train_index,val_index in kf.split(microsoft_data,y):\n",
    "    print(train_index,val_index)"
   ]
  },
  {
   "cell_type": "code",
   "execution_count": 6,
   "metadata": {},
   "outputs": [],
   "source": [
    "from sklearn.model_selection import train_test_split\n",
    "\n",
    "X_train,X_test,y_train,y_test=train_test_split(microsoft_data,y,test_size=0.2,random_state=43)\n",
    "\n",
    "# Filling missing values\n",
    "\n",
    "for col in X_train.columns:\n",
    "    if X_train[col].dtype=='object':\n",
    "        X_train[col]=X_train[col].fillna(X_train[col].mode()[0]).astype(object)\n",
    "        X_test[col]=X_test[col].fillna(X_train[col].mode()[0]).astype(object)\n",
    "        \n",
    "    else:\n",
    "        X_train[col]=X_train[col].fillna(X_train[col].mean())\n",
    "        X_test[col]=X_test[col].fillna(X_train[col].mean())\n",
    "\n",
    "  "
   ]
  },
  {
   "cell_type": "code",
   "execution_count": 7,
   "metadata": {},
   "outputs": [],
   "source": [
    "cat_cols= [col for col in X_train.columns if X_train[col].dtype=='object']\n",
    "\n",
    "one_hot_train=pd.get_dummies(X_train[cat_cols]) # one-hot encoding\n",
    "\n",
    "#one_hot_train"
   ]
  },
  {
   "cell_type": "code",
   "execution_count": 8,
   "metadata": {},
   "outputs": [
    {
     "data": {
      "text/plain": [
       "(45404, 63006)"
      ]
     },
     "execution_count": 8,
     "metadata": {},
     "output_type": "execute_result"
    }
   ],
   "source": [
    "one_hot_train.shape\n",
    "#one_hot_train"
   ]
  },
  {
   "cell_type": "code",
   "execution_count": 9,
   "metadata": {},
   "outputs": [],
   "source": [
    "one_hot_test=pd.get_dummies(X_test[cat_cols])"
   ]
  },
  {
   "cell_type": "code",
   "execution_count": 10,
   "metadata": {},
   "outputs": [
    {
     "data": {
      "text/plain": [
       "(11352, 25674)"
      ]
     },
     "execution_count": 10,
     "metadata": {},
     "output_type": "execute_result"
    }
   ],
   "source": [
    "one_hot_test.shape\n",
    "#one_hot_test"
   ]
  },
  {
   "cell_type": "code",
   "execution_count": 11,
   "metadata": {},
   "outputs": [],
   "source": [
    "X_train_final,X_test_final=one_hot_train.align(one_hot_test,join='inner',axis=1,fill_value=0)\n",
    "\n"
   ]
  },
  {
   "cell_type": "code",
   "execution_count": 12,
   "metadata": {},
   "outputs": [],
   "source": [
    "X_train_final['Census_InternalPrimaryDiagonalDisplaySizeInInches']=X_train['Census_InternalPrimaryDiagonalDisplaySizeInInches']\n",
    "X_test_final['Census_InternalPrimaryDiagonalDisplaySizeInInches']=X_test['Census_InternalPrimaryDiagonalDisplaySizeInInches']"
   ]
  },
  {
   "cell_type": "code",
   "execution_count": null,
   "metadata": {},
   "outputs": [
    {
     "name": "stdout",
     "output_type": "stream",
     "text": [
      "Fitting 5 folds for each of 100 candidates, totalling 500 fits\n",
      "[CV] min_samples_split=4, min_samples_leaf=6, max_leaf_nodes=10, max_depth=5 \n",
      "[CV]  min_samples_split=4, min_samples_leaf=6, max_leaf_nodes=10, max_depth=5, score=1.0, total=  20.0s\n",
      "[CV] min_samples_split=4, min_samples_leaf=6, max_leaf_nodes=10, max_depth=5 \n"
     ]
    },
    {
     "name": "stderr",
     "output_type": "stream",
     "text": [
      "[Parallel(n_jobs=1)]: Done   1 out of   1 | elapsed:   28.0s remaining:    0.0s\n"
     ]
    },
    {
     "name": "stdout",
     "output_type": "stream",
     "text": [
      "[CV]  min_samples_split=4, min_samples_leaf=6, max_leaf_nodes=10, max_depth=5, score=1.0, total=  15.9s\n",
      "[CV] min_samples_split=4, min_samples_leaf=6, max_leaf_nodes=10, max_depth=5 \n"
     ]
    },
    {
     "name": "stderr",
     "output_type": "stream",
     "text": [
      "[Parallel(n_jobs=1)]: Done   2 out of   2 | elapsed:   50.8s remaining:    0.0s\n"
     ]
    },
    {
     "name": "stdout",
     "output_type": "stream",
     "text": [
      "[CV]  min_samples_split=4, min_samples_leaf=6, max_leaf_nodes=10, max_depth=5, score=1.0, total=  15.0s\n",
      "[CV] min_samples_split=4, min_samples_leaf=6, max_leaf_nodes=10, max_depth=5 \n"
     ]
    },
    {
     "name": "stderr",
     "output_type": "stream",
     "text": [
      "[Parallel(n_jobs=1)]: Done   3 out of   3 | elapsed:  1.2min remaining:    0.0s\n"
     ]
    },
    {
     "name": "stdout",
     "output_type": "stream",
     "text": [
      "[CV]  min_samples_split=4, min_samples_leaf=6, max_leaf_nodes=10, max_depth=5, score=1.0, total=  17.8s\n",
      "[CV] min_samples_split=4, min_samples_leaf=6, max_leaf_nodes=10, max_depth=5 \n"
     ]
    },
    {
     "name": "stderr",
     "output_type": "stream",
     "text": [
      "[Parallel(n_jobs=1)]: Done   4 out of   4 | elapsed:  1.6min remaining:    0.0s\n"
     ]
    },
    {
     "name": "stdout",
     "output_type": "stream",
     "text": [
      "[CV]  min_samples_split=4, min_samples_leaf=6, max_leaf_nodes=10, max_depth=5, score=1.0, total=  15.5s\n",
      "[CV] min_samples_split=4, min_samples_leaf=5, max_leaf_nodes=9, max_depth=11 \n"
     ]
    },
    {
     "name": "stderr",
     "output_type": "stream",
     "text": [
      "[Parallel(n_jobs=1)]: Done   5 out of   5 | elapsed:  2.0min remaining:    0.0s\n"
     ]
    },
    {
     "name": "stdout",
     "output_type": "stream",
     "text": [
      "[CV]  min_samples_split=4, min_samples_leaf=5, max_leaf_nodes=9, max_depth=11, score=1.0, total=  15.1s\n",
      "[CV] min_samples_split=4, min_samples_leaf=5, max_leaf_nodes=9, max_depth=11 \n"
     ]
    },
    {
     "name": "stderr",
     "output_type": "stream",
     "text": [
      "[Parallel(n_jobs=1)]: Done   6 out of   6 | elapsed:  2.4min remaining:    0.0s\n"
     ]
    },
    {
     "name": "stdout",
     "output_type": "stream",
     "text": [
      "[CV]  min_samples_split=4, min_samples_leaf=5, max_leaf_nodes=9, max_depth=11, score=1.0, total=  15.2s\n",
      "[CV] min_samples_split=4, min_samples_leaf=5, max_leaf_nodes=9, max_depth=11 \n"
     ]
    },
    {
     "name": "stderr",
     "output_type": "stream",
     "text": [
      "[Parallel(n_jobs=1)]: Done   7 out of   7 | elapsed:  2.7min remaining:    0.0s\n"
     ]
    },
    {
     "name": "stdout",
     "output_type": "stream",
     "text": [
      "[CV]  min_samples_split=4, min_samples_leaf=5, max_leaf_nodes=9, max_depth=11, score=1.0, total=  15.3s\n",
      "[CV] min_samples_split=4, min_samples_leaf=5, max_leaf_nodes=9, max_depth=11 \n"
     ]
    },
    {
     "name": "stderr",
     "output_type": "stream",
     "text": [
      "[Parallel(n_jobs=1)]: Done   8 out of   8 | elapsed:  3.1min remaining:    0.0s\n"
     ]
    },
    {
     "name": "stdout",
     "output_type": "stream",
     "text": [
      "[CV]  min_samples_split=4, min_samples_leaf=5, max_leaf_nodes=9, max_depth=11, score=1.0, total=  15.3s\n",
      "[CV] min_samples_split=4, min_samples_leaf=5, max_leaf_nodes=9, max_depth=11 \n"
     ]
    },
    {
     "name": "stderr",
     "output_type": "stream",
     "text": [
      "[Parallel(n_jobs=1)]: Done   9 out of   9 | elapsed:  3.5min remaining:    0.0s\n"
     ]
    },
    {
     "name": "stdout",
     "output_type": "stream",
     "text": [
      "[CV]  min_samples_split=4, min_samples_leaf=5, max_leaf_nodes=9, max_depth=11, score=1.0, total=  15.3s\n",
      "[CV] min_samples_split=6, min_samples_leaf=3, max_leaf_nodes=9, max_depth=10 \n"
     ]
    },
    {
     "name": "stderr",
     "output_type": "stream",
     "text": [
      "[Parallel(n_jobs=1)]: Done  10 out of  10 | elapsed:  3.8min remaining:    0.0s\n"
     ]
    },
    {
     "name": "stdout",
     "output_type": "stream",
     "text": [
      "[CV]  min_samples_split=6, min_samples_leaf=3, max_leaf_nodes=9, max_depth=10, score=1.0, total=  15.2s\n",
      "[CV] min_samples_split=6, min_samples_leaf=3, max_leaf_nodes=9, max_depth=10 \n"
     ]
    },
    {
     "name": "stderr",
     "output_type": "stream",
     "text": [
      "[Parallel(n_jobs=1)]: Done  11 out of  11 | elapsed:  4.2min remaining:    0.0s\n"
     ]
    },
    {
     "name": "stdout",
     "output_type": "stream",
     "text": [
      "[CV]  min_samples_split=6, min_samples_leaf=3, max_leaf_nodes=9, max_depth=10, score=1.0, total=  15.5s\n",
      "[CV] min_samples_split=6, min_samples_leaf=3, max_leaf_nodes=9, max_depth=10 \n"
     ]
    },
    {
     "name": "stderr",
     "output_type": "stream",
     "text": [
      "[Parallel(n_jobs=1)]: Done  12 out of  12 | elapsed:  4.6min remaining:    0.0s\n"
     ]
    },
    {
     "name": "stdout",
     "output_type": "stream",
     "text": [
      "[CV]  min_samples_split=6, min_samples_leaf=3, max_leaf_nodes=9, max_depth=10, score=1.0, total=  16.6s\n",
      "[CV] min_samples_split=6, min_samples_leaf=3, max_leaf_nodes=9, max_depth=10 \n"
     ]
    },
    {
     "name": "stderr",
     "output_type": "stream",
     "text": [
      "[Parallel(n_jobs=1)]: Done  13 out of  13 | elapsed:  5.0min remaining:    0.0s\n"
     ]
    },
    {
     "name": "stdout",
     "output_type": "stream",
     "text": [
      "[CV]  min_samples_split=6, min_samples_leaf=3, max_leaf_nodes=9, max_depth=10, score=1.0, total=  16.0s\n",
      "[CV] min_samples_split=6, min_samples_leaf=3, max_leaf_nodes=9, max_depth=10 \n"
     ]
    },
    {
     "name": "stderr",
     "output_type": "stream",
     "text": [
      "[Parallel(n_jobs=1)]: Done  14 out of  14 | elapsed:  5.4min remaining:    0.0s\n"
     ]
    },
    {
     "name": "stdout",
     "output_type": "stream",
     "text": [
      "[CV]  min_samples_split=6, min_samples_leaf=3, max_leaf_nodes=9, max_depth=10, score=1.0, total=  15.5s\n",
      "[CV] min_samples_split=5, min_samples_leaf=3, max_leaf_nodes=7, max_depth=9 \n"
     ]
    },
    {
     "name": "stderr",
     "output_type": "stream",
     "text": [
      "[Parallel(n_jobs=1)]: Done  15 out of  15 | elapsed:  5.7min remaining:    0.0s\n"
     ]
    },
    {
     "name": "stdout",
     "output_type": "stream",
     "text": [
      "[CV]  min_samples_split=5, min_samples_leaf=3, max_leaf_nodes=7, max_depth=9, score=1.0, total=  16.0s\n",
      "[CV] min_samples_split=5, min_samples_leaf=3, max_leaf_nodes=7, max_depth=9 \n"
     ]
    },
    {
     "name": "stderr",
     "output_type": "stream",
     "text": [
      "[Parallel(n_jobs=1)]: Done  16 out of  16 | elapsed:  6.1min remaining:    0.0s\n"
     ]
    },
    {
     "name": "stdout",
     "output_type": "stream",
     "text": [
      "[CV]  min_samples_split=5, min_samples_leaf=3, max_leaf_nodes=7, max_depth=9, score=1.0, total=  16.9s\n",
      "[CV] min_samples_split=5, min_samples_leaf=3, max_leaf_nodes=7, max_depth=9 \n"
     ]
    },
    {
     "name": "stderr",
     "output_type": "stream",
     "text": [
      "[Parallel(n_jobs=1)]: Done  17 out of  17 | elapsed:  6.6min remaining:    0.0s\n"
     ]
    },
    {
     "name": "stdout",
     "output_type": "stream",
     "text": [
      "[CV]  min_samples_split=5, min_samples_leaf=3, max_leaf_nodes=7, max_depth=9, score=1.0, total=  17.8s\n",
      "[CV] min_samples_split=5, min_samples_leaf=3, max_leaf_nodes=7, max_depth=9 \n"
     ]
    },
    {
     "name": "stderr",
     "output_type": "stream",
     "text": [
      "[Parallel(n_jobs=1)]: Done  18 out of  18 | elapsed:  7.0min remaining:    0.0s\n"
     ]
    },
    {
     "name": "stdout",
     "output_type": "stream",
     "text": [
      "[CV]  min_samples_split=5, min_samples_leaf=3, max_leaf_nodes=7, max_depth=9, score=1.0, total=  16.1s\n",
      "[CV] min_samples_split=5, min_samples_leaf=3, max_leaf_nodes=7, max_depth=9 \n"
     ]
    },
    {
     "name": "stderr",
     "output_type": "stream",
     "text": [
      "[Parallel(n_jobs=1)]: Done  19 out of  19 | elapsed:  7.4min remaining:    0.0s\n"
     ]
    },
    {
     "name": "stdout",
     "output_type": "stream",
     "text": [
      "[CV]  min_samples_split=5, min_samples_leaf=3, max_leaf_nodes=7, max_depth=9, score=1.0, total=  16.4s\n",
      "[CV] min_samples_split=7, min_samples_leaf=6, max_leaf_nodes=10, max_depth=11 \n"
     ]
    },
    {
     "name": "stderr",
     "output_type": "stream",
     "text": [
      "[Parallel(n_jobs=1)]: Done  20 out of  20 | elapsed:  7.8min remaining:    0.0s\n"
     ]
    },
    {
     "name": "stdout",
     "output_type": "stream",
     "text": [
      "[CV]  min_samples_split=7, min_samples_leaf=6, max_leaf_nodes=10, max_depth=11, score=1.0, total=  16.5s\n",
      "[CV] min_samples_split=7, min_samples_leaf=6, max_leaf_nodes=10, max_depth=11 \n"
     ]
    },
    {
     "name": "stderr",
     "output_type": "stream",
     "text": [
      "[Parallel(n_jobs=1)]: Done  21 out of  21 | elapsed:  8.2min remaining:    0.0s\n"
     ]
    },
    {
     "name": "stdout",
     "output_type": "stream",
     "text": [
      "[CV]  min_samples_split=7, min_samples_leaf=6, max_leaf_nodes=10, max_depth=11, score=1.0, total=  15.9s\n",
      "[CV] min_samples_split=7, min_samples_leaf=6, max_leaf_nodes=10, max_depth=11 \n"
     ]
    },
    {
     "name": "stderr",
     "output_type": "stream",
     "text": [
      "[Parallel(n_jobs=1)]: Done  22 out of  22 | elapsed:  8.6min remaining:    0.0s\n"
     ]
    },
    {
     "name": "stdout",
     "output_type": "stream",
     "text": [
      "[CV]  min_samples_split=7, min_samples_leaf=6, max_leaf_nodes=10, max_depth=11, score=1.0, total=  15.8s\n",
      "[CV] min_samples_split=7, min_samples_leaf=6, max_leaf_nodes=10, max_depth=11 \n"
     ]
    },
    {
     "name": "stderr",
     "output_type": "stream",
     "text": [
      "[Parallel(n_jobs=1)]: Done  23 out of  23 | elapsed:  8.9min remaining:    0.0s\n"
     ]
    },
    {
     "name": "stdout",
     "output_type": "stream",
     "text": [
      "[CV]  min_samples_split=7, min_samples_leaf=6, max_leaf_nodes=10, max_depth=11, score=1.0, total=  15.6s\n",
      "[CV] min_samples_split=7, min_samples_leaf=6, max_leaf_nodes=10, max_depth=11 \n"
     ]
    },
    {
     "name": "stderr",
     "output_type": "stream",
     "text": [
      "[Parallel(n_jobs=1)]: Done  24 out of  24 | elapsed:  9.3min remaining:    0.0s\n"
     ]
    },
    {
     "name": "stdout",
     "output_type": "stream",
     "text": [
      "[CV]  min_samples_split=7, min_samples_leaf=6, max_leaf_nodes=10, max_depth=11, score=1.0, total=  16.0s\n",
      "[CV] min_samples_split=6, min_samples_leaf=4, max_leaf_nodes=8, max_depth=11 \n"
     ]
    },
    {
     "name": "stderr",
     "output_type": "stream",
     "text": [
      "[Parallel(n_jobs=1)]: Done  25 out of  25 | elapsed:  9.7min remaining:    0.0s\n"
     ]
    },
    {
     "name": "stdout",
     "output_type": "stream",
     "text": [
      "[CV]  min_samples_split=6, min_samples_leaf=4, max_leaf_nodes=8, max_depth=11, score=1.0, total=  15.9s\n",
      "[CV] min_samples_split=6, min_samples_leaf=4, max_leaf_nodes=8, max_depth=11 \n"
     ]
    },
    {
     "name": "stderr",
     "output_type": "stream",
     "text": [
      "[Parallel(n_jobs=1)]: Done  26 out of  26 | elapsed: 10.1min remaining:    0.0s\n"
     ]
    },
    {
     "name": "stdout",
     "output_type": "stream",
     "text": [
      "[CV]  min_samples_split=6, min_samples_leaf=4, max_leaf_nodes=8, max_depth=11, score=1.0, total=  16.6s\n",
      "[CV] min_samples_split=6, min_samples_leaf=4, max_leaf_nodes=8, max_depth=11 \n"
     ]
    },
    {
     "name": "stderr",
     "output_type": "stream",
     "text": [
      "[Parallel(n_jobs=1)]: Done  27 out of  27 | elapsed: 10.5min remaining:    0.0s\n"
     ]
    },
    {
     "name": "stdout",
     "output_type": "stream",
     "text": [
      "[CV]  min_samples_split=6, min_samples_leaf=4, max_leaf_nodes=8, max_depth=11, score=1.0, total=  16.3s\n",
      "[CV] min_samples_split=6, min_samples_leaf=4, max_leaf_nodes=8, max_depth=11 \n"
     ]
    },
    {
     "name": "stderr",
     "output_type": "stream",
     "text": [
      "[Parallel(n_jobs=1)]: Done  28 out of  28 | elapsed: 10.9min remaining:    0.0s\n"
     ]
    },
    {
     "name": "stdout",
     "output_type": "stream",
     "text": [
      "[CV]  min_samples_split=6, min_samples_leaf=4, max_leaf_nodes=8, max_depth=11, score=1.0, total=  17.3s\n",
      "[CV] min_samples_split=6, min_samples_leaf=4, max_leaf_nodes=8, max_depth=11 \n"
     ]
    },
    {
     "name": "stderr",
     "output_type": "stream",
     "text": [
      "[Parallel(n_jobs=1)]: Done  29 out of  29 | elapsed: 11.3min remaining:    0.0s\n"
     ]
    },
    {
     "name": "stdout",
     "output_type": "stream",
     "text": [
      "[CV]  min_samples_split=6, min_samples_leaf=4, max_leaf_nodes=8, max_depth=11, score=1.0, total=  16.4s\n",
      "[CV] min_samples_split=7, min_samples_leaf=3, max_leaf_nodes=9, max_depth=7 \n"
     ]
    },
    {
     "name": "stderr",
     "output_type": "stream",
     "text": [
      "[Parallel(n_jobs=1)]: Done  30 out of  30 | elapsed: 11.7min remaining:    0.0s\n"
     ]
    },
    {
     "name": "stdout",
     "output_type": "stream",
     "text": [
      "[CV]  min_samples_split=7, min_samples_leaf=3, max_leaf_nodes=9, max_depth=7, score=1.0, total=  16.8s\n",
      "[CV] min_samples_split=7, min_samples_leaf=3, max_leaf_nodes=9, max_depth=7 \n"
     ]
    },
    {
     "name": "stderr",
     "output_type": "stream",
     "text": [
      "[Parallel(n_jobs=1)]: Done  31 out of  31 | elapsed: 12.1min remaining:    0.0s\n"
     ]
    },
    {
     "name": "stdout",
     "output_type": "stream",
     "text": [
      "[CV]  min_samples_split=7, min_samples_leaf=3, max_leaf_nodes=9, max_depth=7, score=1.0, total=  16.5s\n",
      "[CV] min_samples_split=7, min_samples_leaf=3, max_leaf_nodes=9, max_depth=7 \n"
     ]
    },
    {
     "name": "stderr",
     "output_type": "stream",
     "text": [
      "[Parallel(n_jobs=1)]: Done  32 out of  32 | elapsed: 12.5min remaining:    0.0s\n"
     ]
    },
    {
     "name": "stdout",
     "output_type": "stream",
     "text": [
      "[CV]  min_samples_split=7, min_samples_leaf=3, max_leaf_nodes=9, max_depth=7, score=1.0, total=  16.2s\n",
      "[CV] min_samples_split=7, min_samples_leaf=3, max_leaf_nodes=9, max_depth=7 \n"
     ]
    },
    {
     "name": "stderr",
     "output_type": "stream",
     "text": [
      "[Parallel(n_jobs=1)]: Done  33 out of  33 | elapsed: 12.9min remaining:    0.0s\n"
     ]
    },
    {
     "name": "stdout",
     "output_type": "stream",
     "text": [
      "[CV]  min_samples_split=7, min_samples_leaf=3, max_leaf_nodes=9, max_depth=7, score=1.0, total=  16.3s\n",
      "[CV] min_samples_split=7, min_samples_leaf=3, max_leaf_nodes=9, max_depth=7 \n"
     ]
    },
    {
     "name": "stderr",
     "output_type": "stream",
     "text": [
      "[Parallel(n_jobs=1)]: Done  34 out of  34 | elapsed: 13.3min remaining:    0.0s\n"
     ]
    },
    {
     "name": "stdout",
     "output_type": "stream",
     "text": [
      "[CV]  min_samples_split=7, min_samples_leaf=3, max_leaf_nodes=9, max_depth=7, score=1.0, total=  16.0s\n",
      "[CV] min_samples_split=6, min_samples_leaf=6, max_leaf_nodes=8, max_depth=7 \n"
     ]
    },
    {
     "name": "stderr",
     "output_type": "stream",
     "text": [
      "[Parallel(n_jobs=1)]: Done  35 out of  35 | elapsed: 13.7min remaining:    0.0s\n"
     ]
    },
    {
     "name": "stdout",
     "output_type": "stream",
     "text": [
      "[CV]  min_samples_split=6, min_samples_leaf=6, max_leaf_nodes=8, max_depth=7, score=1.0, total=  15.8s\n",
      "[CV] min_samples_split=6, min_samples_leaf=6, max_leaf_nodes=8, max_depth=7 \n"
     ]
    },
    {
     "name": "stderr",
     "output_type": "stream",
     "text": [
      "[Parallel(n_jobs=1)]: Done  36 out of  36 | elapsed: 14.1min remaining:    0.0s\n"
     ]
    },
    {
     "name": "stdout",
     "output_type": "stream",
     "text": [
      "[CV]  min_samples_split=6, min_samples_leaf=6, max_leaf_nodes=8, max_depth=7, score=1.0, total=  16.0s\n",
      "[CV] min_samples_split=6, min_samples_leaf=6, max_leaf_nodes=8, max_depth=7 \n"
     ]
    },
    {
     "name": "stderr",
     "output_type": "stream",
     "text": [
      "[Parallel(n_jobs=1)]: Done  37 out of  37 | elapsed: 14.4min remaining:    0.0s\n"
     ]
    },
    {
     "name": "stdout",
     "output_type": "stream",
     "text": [
      "[CV]  min_samples_split=6, min_samples_leaf=6, max_leaf_nodes=8, max_depth=7, score=1.0, total=  15.7s\n",
      "[CV] min_samples_split=6, min_samples_leaf=6, max_leaf_nodes=8, max_depth=7 \n"
     ]
    },
    {
     "name": "stderr",
     "output_type": "stream",
     "text": [
      "[Parallel(n_jobs=1)]: Done  38 out of  38 | elapsed: 14.8min remaining:    0.0s\n"
     ]
    },
    {
     "name": "stdout",
     "output_type": "stream",
     "text": [
      "[CV]  min_samples_split=6, min_samples_leaf=6, max_leaf_nodes=8, max_depth=7, score=1.0, total=  17.1s\n",
      "[CV] min_samples_split=6, min_samples_leaf=6, max_leaf_nodes=8, max_depth=7 \n"
     ]
    },
    {
     "name": "stderr",
     "output_type": "stream",
     "text": [
      "[Parallel(n_jobs=1)]: Done  39 out of  39 | elapsed: 15.2min remaining:    0.0s\n"
     ]
    },
    {
     "name": "stdout",
     "output_type": "stream",
     "text": [
      "[CV]  min_samples_split=6, min_samples_leaf=6, max_leaf_nodes=8, max_depth=7, score=1.0, total=  17.5s\n",
      "[CV] min_samples_split=5, min_samples_leaf=4, max_leaf_nodes=7, max_depth=9 \n"
     ]
    },
    {
     "name": "stderr",
     "output_type": "stream",
     "text": [
      "[Parallel(n_jobs=1)]: Done  40 out of  40 | elapsed: 15.7min remaining:    0.0s\n"
     ]
    },
    {
     "name": "stdout",
     "output_type": "stream",
     "text": [
      "[CV]  min_samples_split=5, min_samples_leaf=4, max_leaf_nodes=7, max_depth=9, score=1.0, total=  22.6s\n",
      "[CV] min_samples_split=5, min_samples_leaf=4, max_leaf_nodes=7, max_depth=9 \n"
     ]
    },
    {
     "name": "stderr",
     "output_type": "stream",
     "text": [
      "[Parallel(n_jobs=1)]: Done  41 out of  41 | elapsed: 16.2min remaining:    0.0s\n"
     ]
    },
    {
     "name": "stdout",
     "output_type": "stream",
     "text": [
      "[CV]  min_samples_split=5, min_samples_leaf=4, max_leaf_nodes=7, max_depth=9, score=1.0, total=  20.8s\n",
      "[CV] min_samples_split=5, min_samples_leaf=4, max_leaf_nodes=7, max_depth=9 \n",
      "[CV]  min_samples_split=5, min_samples_leaf=4, max_leaf_nodes=7, max_depth=9, score=1.0, total=  19.9s\n",
      "[CV] min_samples_split=5, min_samples_leaf=4, max_leaf_nodes=7, max_depth=9 \n",
      "[CV]  min_samples_split=5, min_samples_leaf=4, max_leaf_nodes=7, max_depth=9, score=1.0, total=  16.3s\n",
      "[CV] min_samples_split=5, min_samples_leaf=4, max_leaf_nodes=7, max_depth=9 \n",
      "[CV]  min_samples_split=5, min_samples_leaf=4, max_leaf_nodes=7, max_depth=9, score=1.0, total=  16.8s\n",
      "[CV] min_samples_split=5, min_samples_leaf=4, max_leaf_nodes=9, max_depth=11 \n",
      "[CV]  min_samples_split=5, min_samples_leaf=4, max_leaf_nodes=9, max_depth=11, score=1.0, total=  17.1s\n",
      "[CV] min_samples_split=5, min_samples_leaf=4, max_leaf_nodes=9, max_depth=11 \n",
      "[CV]  min_samples_split=5, min_samples_leaf=4, max_leaf_nodes=9, max_depth=11, score=1.0, total=  18.4s\n",
      "[CV] min_samples_split=5, min_samples_leaf=4, max_leaf_nodes=9, max_depth=11 \n",
      "[CV]  min_samples_split=5, min_samples_leaf=4, max_leaf_nodes=9, max_depth=11, score=1.0, total=  17.1s\n",
      "[CV] min_samples_split=5, min_samples_leaf=4, max_leaf_nodes=9, max_depth=11 \n",
      "[CV]  min_samples_split=5, min_samples_leaf=4, max_leaf_nodes=9, max_depth=11, score=1.0, total=  15.5s\n",
      "[CV] min_samples_split=5, min_samples_leaf=4, max_leaf_nodes=9, max_depth=11 \n",
      "[CV]  min_samples_split=5, min_samples_leaf=4, max_leaf_nodes=9, max_depth=11, score=1.0, total=  17.1s\n",
      "[CV] min_samples_split=7, min_samples_leaf=5, max_leaf_nodes=10, max_depth=9 \n",
      "[CV]  min_samples_split=7, min_samples_leaf=5, max_leaf_nodes=10, max_depth=9, score=1.0, total=  16.0s\n",
      "[CV] min_samples_split=7, min_samples_leaf=5, max_leaf_nodes=10, max_depth=9 \n",
      "[CV]  min_samples_split=7, min_samples_leaf=5, max_leaf_nodes=10, max_depth=9, score=1.0, total=  16.5s\n",
      "[CV] min_samples_split=7, min_samples_leaf=5, max_leaf_nodes=10, max_depth=9 \n",
      "[CV]  min_samples_split=7, min_samples_leaf=5, max_leaf_nodes=10, max_depth=9, score=1.0, total=  17.6s\n",
      "[CV] min_samples_split=7, min_samples_leaf=5, max_leaf_nodes=10, max_depth=9 \n",
      "[CV]  min_samples_split=7, min_samples_leaf=5, max_leaf_nodes=10, max_depth=9, score=1.0, total=  16.7s\n",
      "[CV] min_samples_split=7, min_samples_leaf=5, max_leaf_nodes=10, max_depth=9 \n",
      "[CV]  min_samples_split=7, min_samples_leaf=5, max_leaf_nodes=10, max_depth=9, score=1.0, total=  18.9s\n",
      "[CV] min_samples_split=6, min_samples_leaf=5, max_leaf_nodes=9, max_depth=5 \n",
      "[CV]  min_samples_split=6, min_samples_leaf=5, max_leaf_nodes=9, max_depth=5, score=1.0, total=  17.1s\n",
      "[CV] min_samples_split=6, min_samples_leaf=5, max_leaf_nodes=9, max_depth=5 \n",
      "[CV]  min_samples_split=6, min_samples_leaf=5, max_leaf_nodes=9, max_depth=5, score=1.0, total=  16.0s\n",
      "[CV] min_samples_split=6, min_samples_leaf=5, max_leaf_nodes=9, max_depth=5 \n",
      "[CV]  min_samples_split=6, min_samples_leaf=5, max_leaf_nodes=9, max_depth=5, score=1.0, total=  16.0s\n",
      "[CV] min_samples_split=6, min_samples_leaf=5, max_leaf_nodes=9, max_depth=5 \n",
      "[CV]  min_samples_split=6, min_samples_leaf=5, max_leaf_nodes=9, max_depth=5, score=1.0, total=  16.1s\n",
      "[CV] min_samples_split=6, min_samples_leaf=5, max_leaf_nodes=9, max_depth=5 \n",
      "[CV]  min_samples_split=6, min_samples_leaf=5, max_leaf_nodes=9, max_depth=5, score=1.0, total=  16.6s\n",
      "[CV] min_samples_split=6, min_samples_leaf=3, max_leaf_nodes=9, max_depth=9 \n",
      "[CV]  min_samples_split=6, min_samples_leaf=3, max_leaf_nodes=9, max_depth=9, score=1.0, total=  16.0s\n",
      "[CV] min_samples_split=6, min_samples_leaf=3, max_leaf_nodes=9, max_depth=9 \n",
      "[CV]  min_samples_split=6, min_samples_leaf=3, max_leaf_nodes=9, max_depth=9, score=1.0, total=  16.4s\n",
      "[CV] min_samples_split=6, min_samples_leaf=3, max_leaf_nodes=9, max_depth=9 \n",
      "[CV]  min_samples_split=6, min_samples_leaf=3, max_leaf_nodes=9, max_depth=9, score=1.0, total=  16.8s\n",
      "[CV] min_samples_split=6, min_samples_leaf=3, max_leaf_nodes=9, max_depth=9 \n",
      "[CV]  min_samples_split=6, min_samples_leaf=3, max_leaf_nodes=9, max_depth=9, score=1.0, total=  16.0s\n",
      "[CV] min_samples_split=6, min_samples_leaf=3, max_leaf_nodes=9, max_depth=9 \n",
      "[CV]  min_samples_split=6, min_samples_leaf=3, max_leaf_nodes=9, max_depth=9, score=1.0, total=  15.6s\n",
      "[CV] min_samples_split=5, min_samples_leaf=5, max_leaf_nodes=7, max_depth=9 \n",
      "[CV]  min_samples_split=5, min_samples_leaf=5, max_leaf_nodes=7, max_depth=9, score=1.0, total=  16.3s\n",
      "[CV] min_samples_split=5, min_samples_leaf=5, max_leaf_nodes=7, max_depth=9 \n",
      "[CV]  min_samples_split=5, min_samples_leaf=5, max_leaf_nodes=7, max_depth=9, score=1.0, total=  16.4s\n",
      "[CV] min_samples_split=5, min_samples_leaf=5, max_leaf_nodes=7, max_depth=9 \n",
      "[CV]  min_samples_split=5, min_samples_leaf=5, max_leaf_nodes=7, max_depth=9, score=1.0, total=  15.8s\n",
      "[CV] min_samples_split=5, min_samples_leaf=5, max_leaf_nodes=7, max_depth=9 \n",
      "[CV]  min_samples_split=5, min_samples_leaf=5, max_leaf_nodes=7, max_depth=9, score=1.0, total=  15.6s\n",
      "[CV] min_samples_split=5, min_samples_leaf=5, max_leaf_nodes=7, max_depth=9 \n",
      "[CV]  min_samples_split=5, min_samples_leaf=5, max_leaf_nodes=7, max_depth=9, score=1.0, total=  18.8s\n",
      "[CV] min_samples_split=5, min_samples_leaf=6, max_leaf_nodes=7, max_depth=9 \n",
      "[CV]  min_samples_split=5, min_samples_leaf=6, max_leaf_nodes=7, max_depth=9, score=1.0, total=  17.0s\n",
      "[CV] min_samples_split=5, min_samples_leaf=6, max_leaf_nodes=7, max_depth=9 \n",
      "[CV]  min_samples_split=5, min_samples_leaf=6, max_leaf_nodes=7, max_depth=9, score=1.0, total=  15.6s\n",
      "[CV] min_samples_split=5, min_samples_leaf=6, max_leaf_nodes=7, max_depth=9 \n",
      "[CV]  min_samples_split=5, min_samples_leaf=6, max_leaf_nodes=7, max_depth=9, score=1.0, total=  17.7s\n",
      "[CV] min_samples_split=5, min_samples_leaf=6, max_leaf_nodes=7, max_depth=9 \n",
      "[CV]  min_samples_split=5, min_samples_leaf=6, max_leaf_nodes=7, max_depth=9, score=1.0, total=  24.1s\n",
      "[CV] min_samples_split=5, min_samples_leaf=6, max_leaf_nodes=7, max_depth=9 \n",
      "[CV]  min_samples_split=5, min_samples_leaf=6, max_leaf_nodes=7, max_depth=9, score=1.0, total=  19.6s\n",
      "[CV] min_samples_split=6, min_samples_leaf=3, max_leaf_nodes=10, max_depth=11 \n",
      "[CV]  min_samples_split=6, min_samples_leaf=3, max_leaf_nodes=10, max_depth=11, score=1.0, total=  17.1s\n",
      "[CV] min_samples_split=6, min_samples_leaf=3, max_leaf_nodes=10, max_depth=11 \n",
      "[CV]  min_samples_split=6, min_samples_leaf=3, max_leaf_nodes=10, max_depth=11, score=1.0, total=  16.2s\n",
      "[CV] min_samples_split=6, min_samples_leaf=3, max_leaf_nodes=10, max_depth=11 \n",
      "[CV]  min_samples_split=6, min_samples_leaf=3, max_leaf_nodes=10, max_depth=11, score=1.0, total=  17.7s\n",
      "[CV] min_samples_split=6, min_samples_leaf=3, max_leaf_nodes=10, max_depth=11 \n",
      "[CV]  min_samples_split=6, min_samples_leaf=3, max_leaf_nodes=10, max_depth=11, score=1.0, total=  17.3s\n",
      "[CV] min_samples_split=6, min_samples_leaf=3, max_leaf_nodes=10, max_depth=11 \n",
      "[CV]  min_samples_split=6, min_samples_leaf=3, max_leaf_nodes=10, max_depth=11, score=1.0, total=  16.7s\n",
      "[CV] min_samples_split=4, min_samples_leaf=3, max_leaf_nodes=10, max_depth=7 \n",
      "[CV]  min_samples_split=4, min_samples_leaf=3, max_leaf_nodes=10, max_depth=7, score=1.0, total=  16.5s\n",
      "[CV] min_samples_split=4, min_samples_leaf=3, max_leaf_nodes=10, max_depth=7 \n",
      "[CV]  min_samples_split=4, min_samples_leaf=3, max_leaf_nodes=10, max_depth=7, score=1.0, total=  17.6s\n",
      "[CV] min_samples_split=4, min_samples_leaf=3, max_leaf_nodes=10, max_depth=7 \n",
      "[CV]  min_samples_split=4, min_samples_leaf=3, max_leaf_nodes=10, max_depth=7, score=1.0, total=  16.4s\n",
      "[CV] min_samples_split=4, min_samples_leaf=3, max_leaf_nodes=10, max_depth=7 \n",
      "[CV]  min_samples_split=4, min_samples_leaf=3, max_leaf_nodes=10, max_depth=7, score=1.0, total=  24.7s\n",
      "[CV] min_samples_split=4, min_samples_leaf=3, max_leaf_nodes=10, max_depth=7 \n",
      "[CV]  min_samples_split=4, min_samples_leaf=3, max_leaf_nodes=10, max_depth=7, score=1.0, total=  16.5s\n",
      "[CV] min_samples_split=6, min_samples_leaf=4, max_leaf_nodes=10, max_depth=9 \n",
      "[CV]  min_samples_split=6, min_samples_leaf=4, max_leaf_nodes=10, max_depth=9, score=1.0, total=  20.4s\n",
      "[CV] min_samples_split=6, min_samples_leaf=4, max_leaf_nodes=10, max_depth=9 \n",
      "[CV]  min_samples_split=6, min_samples_leaf=4, max_leaf_nodes=10, max_depth=9, score=1.0, total=  19.9s\n",
      "[CV] min_samples_split=6, min_samples_leaf=4, max_leaf_nodes=10, max_depth=9 \n"
     ]
    },
    {
     "name": "stdout",
     "output_type": "stream",
     "text": [
      "[CV]  min_samples_split=6, min_samples_leaf=4, max_leaf_nodes=10, max_depth=9, score=1.0, total=  20.6s\n",
      "[CV] min_samples_split=6, min_samples_leaf=4, max_leaf_nodes=10, max_depth=9 \n",
      "[CV]  min_samples_split=6, min_samples_leaf=4, max_leaf_nodes=10, max_depth=9, score=1.0, total=  17.2s\n",
      "[CV] min_samples_split=6, min_samples_leaf=4, max_leaf_nodes=10, max_depth=9 \n",
      "[CV]  min_samples_split=6, min_samples_leaf=4, max_leaf_nodes=10, max_depth=9, score=1.0, total=  19.2s\n",
      "[CV] min_samples_split=7, min_samples_leaf=5, max_leaf_nodes=8, max_depth=10 \n",
      "[CV]  min_samples_split=7, min_samples_leaf=5, max_leaf_nodes=8, max_depth=10, score=1.0, total=  18.3s\n",
      "[CV] min_samples_split=7, min_samples_leaf=5, max_leaf_nodes=8, max_depth=10 \n",
      "[CV]  min_samples_split=7, min_samples_leaf=5, max_leaf_nodes=8, max_depth=10, score=1.0, total=  21.6s\n",
      "[CV] min_samples_split=7, min_samples_leaf=5, max_leaf_nodes=8, max_depth=10 \n",
      "[CV]  min_samples_split=7, min_samples_leaf=5, max_leaf_nodes=8, max_depth=10, score=1.0, total=  19.2s\n",
      "[CV] min_samples_split=7, min_samples_leaf=5, max_leaf_nodes=8, max_depth=10 \n",
      "[CV]  min_samples_split=7, min_samples_leaf=5, max_leaf_nodes=8, max_depth=10, score=1.0, total=  16.7s\n",
      "[CV] min_samples_split=7, min_samples_leaf=5, max_leaf_nodes=8, max_depth=10 \n",
      "[CV]  min_samples_split=7, min_samples_leaf=5, max_leaf_nodes=8, max_depth=10, score=1.0, total=  19.7s\n",
      "[CV] min_samples_split=5, min_samples_leaf=6, max_leaf_nodes=9, max_depth=7 \n",
      "[CV]  min_samples_split=5, min_samples_leaf=6, max_leaf_nodes=9, max_depth=7, score=1.0, total=  15.9s\n",
      "[CV] min_samples_split=5, min_samples_leaf=6, max_leaf_nodes=9, max_depth=7 \n",
      "[CV]  min_samples_split=5, min_samples_leaf=6, max_leaf_nodes=9, max_depth=7, score=1.0, total=  16.0s\n",
      "[CV] min_samples_split=5, min_samples_leaf=6, max_leaf_nodes=9, max_depth=7 \n",
      "[CV]  min_samples_split=5, min_samples_leaf=6, max_leaf_nodes=9, max_depth=7, score=1.0, total=  16.9s\n",
      "[CV] min_samples_split=5, min_samples_leaf=6, max_leaf_nodes=9, max_depth=7 \n",
      "[CV]  min_samples_split=5, min_samples_leaf=6, max_leaf_nodes=9, max_depth=7, score=1.0, total=  20.5s\n",
      "[CV] min_samples_split=5, min_samples_leaf=6, max_leaf_nodes=9, max_depth=7 \n",
      "[CV]  min_samples_split=5, min_samples_leaf=6, max_leaf_nodes=9, max_depth=7, score=1.0, total=  20.8s\n",
      "[CV] min_samples_split=6, min_samples_leaf=5, max_leaf_nodes=10, max_depth=9 \n",
      "[CV]  min_samples_split=6, min_samples_leaf=5, max_leaf_nodes=10, max_depth=9, score=1.0, total=  19.4s\n",
      "[CV] min_samples_split=6, min_samples_leaf=5, max_leaf_nodes=10, max_depth=9 \n",
      "[CV]  min_samples_split=6, min_samples_leaf=5, max_leaf_nodes=10, max_depth=9, score=1.0, total=  22.1s\n",
      "[CV] min_samples_split=6, min_samples_leaf=5, max_leaf_nodes=10, max_depth=9 \n",
      "[CV]  min_samples_split=6, min_samples_leaf=5, max_leaf_nodes=10, max_depth=9, score=1.0, total=  20.7s\n",
      "[CV] min_samples_split=6, min_samples_leaf=5, max_leaf_nodes=10, max_depth=9 \n",
      "[CV]  min_samples_split=6, min_samples_leaf=5, max_leaf_nodes=10, max_depth=9, score=1.0, total=  20.2s\n",
      "[CV] min_samples_split=6, min_samples_leaf=5, max_leaf_nodes=10, max_depth=9 \n",
      "[CV]  min_samples_split=6, min_samples_leaf=5, max_leaf_nodes=10, max_depth=9, score=1.0, total=  19.9s\n",
      "[CV] min_samples_split=7, min_samples_leaf=5, max_leaf_nodes=8, max_depth=9 \n",
      "[CV]  min_samples_split=7, min_samples_leaf=5, max_leaf_nodes=8, max_depth=9, score=1.0, total=  20.6s\n",
      "[CV] min_samples_split=7, min_samples_leaf=5, max_leaf_nodes=8, max_depth=9 \n",
      "[CV]  min_samples_split=7, min_samples_leaf=5, max_leaf_nodes=8, max_depth=9, score=1.0, total=  20.3s\n",
      "[CV] min_samples_split=7, min_samples_leaf=5, max_leaf_nodes=8, max_depth=9 \n",
      "[CV]  min_samples_split=7, min_samples_leaf=5, max_leaf_nodes=8, max_depth=9, score=1.0, total=  20.4s\n",
      "[CV] min_samples_split=7, min_samples_leaf=5, max_leaf_nodes=8, max_depth=9 \n",
      "[CV]  min_samples_split=7, min_samples_leaf=5, max_leaf_nodes=8, max_depth=9, score=1.0, total=  20.5s\n",
      "[CV] min_samples_split=7, min_samples_leaf=5, max_leaf_nodes=8, max_depth=9 \n",
      "[CV]  min_samples_split=7, min_samples_leaf=5, max_leaf_nodes=8, max_depth=9, score=1.0, total=  20.3s\n",
      "[CV] min_samples_split=5, min_samples_leaf=6, max_leaf_nodes=9, max_depth=9 \n",
      "[CV]  min_samples_split=5, min_samples_leaf=6, max_leaf_nodes=9, max_depth=9, score=1.0, total=  20.3s\n",
      "[CV] min_samples_split=5, min_samples_leaf=6, max_leaf_nodes=9, max_depth=9 \n",
      "[CV]  min_samples_split=5, min_samples_leaf=6, max_leaf_nodes=9, max_depth=9, score=1.0, total=  20.1s\n",
      "[CV] min_samples_split=5, min_samples_leaf=6, max_leaf_nodes=9, max_depth=9 \n",
      "[CV]  min_samples_split=5, min_samples_leaf=6, max_leaf_nodes=9, max_depth=9, score=1.0, total=  19.8s\n",
      "[CV] min_samples_split=5, min_samples_leaf=6, max_leaf_nodes=9, max_depth=9 \n",
      "[CV]  min_samples_split=5, min_samples_leaf=6, max_leaf_nodes=9, max_depth=9, score=1.0, total=  20.1s\n",
      "[CV] min_samples_split=5, min_samples_leaf=6, max_leaf_nodes=9, max_depth=9 \n",
      "[CV]  min_samples_split=5, min_samples_leaf=6, max_leaf_nodes=9, max_depth=9, score=1.0, total=  20.2s\n",
      "[CV] min_samples_split=5, min_samples_leaf=5, max_leaf_nodes=8, max_depth=5 \n",
      "[CV]  min_samples_split=5, min_samples_leaf=5, max_leaf_nodes=8, max_depth=5, score=1.0, total=  20.5s\n",
      "[CV] min_samples_split=5, min_samples_leaf=5, max_leaf_nodes=8, max_depth=5 \n",
      "[CV]  min_samples_split=5, min_samples_leaf=5, max_leaf_nodes=8, max_depth=5, score=1.0, total=  20.1s\n",
      "[CV] min_samples_split=5, min_samples_leaf=5, max_leaf_nodes=8, max_depth=5 \n",
      "[CV]  min_samples_split=5, min_samples_leaf=5, max_leaf_nodes=8, max_depth=5, score=1.0, total=  20.9s\n",
      "[CV] min_samples_split=5, min_samples_leaf=5, max_leaf_nodes=8, max_depth=5 \n",
      "[CV]  min_samples_split=5, min_samples_leaf=5, max_leaf_nodes=8, max_depth=5, score=1.0, total=  20.2s\n",
      "[CV] min_samples_split=5, min_samples_leaf=5, max_leaf_nodes=8, max_depth=5 \n",
      "[CV]  min_samples_split=5, min_samples_leaf=5, max_leaf_nodes=8, max_depth=5, score=1.0, total=  20.3s\n",
      "[CV] min_samples_split=4, min_samples_leaf=3, max_leaf_nodes=9, max_depth=5 \n",
      "[CV]  min_samples_split=4, min_samples_leaf=3, max_leaf_nodes=9, max_depth=5, score=1.0, total=  20.2s\n",
      "[CV] min_samples_split=4, min_samples_leaf=3, max_leaf_nodes=9, max_depth=5 \n",
      "[CV]  min_samples_split=4, min_samples_leaf=3, max_leaf_nodes=9, max_depth=5, score=1.0, total=  20.2s\n",
      "[CV] min_samples_split=4, min_samples_leaf=3, max_leaf_nodes=9, max_depth=5 \n",
      "[CV]  min_samples_split=4, min_samples_leaf=3, max_leaf_nodes=9, max_depth=5, score=1.0, total=  20.6s\n",
      "[CV] min_samples_split=4, min_samples_leaf=3, max_leaf_nodes=9, max_depth=5 \n",
      "[CV]  min_samples_split=4, min_samples_leaf=3, max_leaf_nodes=9, max_depth=5, score=1.0, total=  19.7s\n",
      "[CV] min_samples_split=4, min_samples_leaf=3, max_leaf_nodes=9, max_depth=5 \n",
      "[CV]  min_samples_split=4, min_samples_leaf=3, max_leaf_nodes=9, max_depth=5, score=1.0, total=  20.0s\n",
      "[CV] min_samples_split=4, min_samples_leaf=3, max_leaf_nodes=7, max_depth=10 \n",
      "[CV]  min_samples_split=4, min_samples_leaf=3, max_leaf_nodes=7, max_depth=10, score=1.0, total=  20.0s\n",
      "[CV] min_samples_split=4, min_samples_leaf=3, max_leaf_nodes=7, max_depth=10 \n",
      "[CV]  min_samples_split=4, min_samples_leaf=3, max_leaf_nodes=7, max_depth=10, score=1.0, total=  20.0s\n",
      "[CV] min_samples_split=4, min_samples_leaf=3, max_leaf_nodes=7, max_depth=10 \n",
      "[CV]  min_samples_split=4, min_samples_leaf=3, max_leaf_nodes=7, max_depth=10, score=1.0, total=  20.3s\n",
      "[CV] min_samples_split=4, min_samples_leaf=3, max_leaf_nodes=7, max_depth=10 \n",
      "[CV]  min_samples_split=4, min_samples_leaf=3, max_leaf_nodes=7, max_depth=10, score=1.0, total=  20.0s\n",
      "[CV] min_samples_split=4, min_samples_leaf=3, max_leaf_nodes=7, max_depth=10 \n",
      "[CV]  min_samples_split=4, min_samples_leaf=3, max_leaf_nodes=7, max_depth=10, score=1.0, total=  20.0s\n",
      "[CV] min_samples_split=6, min_samples_leaf=6, max_leaf_nodes=9, max_depth=9 \n",
      "[CV]  min_samples_split=6, min_samples_leaf=6, max_leaf_nodes=9, max_depth=9, score=1.0, total=  20.1s\n",
      "[CV] min_samples_split=6, min_samples_leaf=6, max_leaf_nodes=9, max_depth=9 \n",
      "[CV]  min_samples_split=6, min_samples_leaf=6, max_leaf_nodes=9, max_depth=9, score=1.0, total=  20.4s\n",
      "[CV] min_samples_split=6, min_samples_leaf=6, max_leaf_nodes=9, max_depth=9 \n",
      "[CV]  min_samples_split=6, min_samples_leaf=6, max_leaf_nodes=9, max_depth=9, score=1.0, total=  24.8s\n",
      "[CV] min_samples_split=6, min_samples_leaf=6, max_leaf_nodes=9, max_depth=9 \n"
     ]
    },
    {
     "name": "stdout",
     "output_type": "stream",
     "text": [
      "[CV]  min_samples_split=6, min_samples_leaf=6, max_leaf_nodes=9, max_depth=9, score=1.0, total=  20.2s\n",
      "[CV] min_samples_split=6, min_samples_leaf=6, max_leaf_nodes=9, max_depth=9 \n",
      "[CV]  min_samples_split=6, min_samples_leaf=6, max_leaf_nodes=9, max_depth=9, score=1.0, total=  20.1s\n",
      "[CV] min_samples_split=7, min_samples_leaf=3, max_leaf_nodes=9, max_depth=5 \n",
      "[CV]  min_samples_split=7, min_samples_leaf=3, max_leaf_nodes=9, max_depth=5, score=1.0, total=  20.2s\n",
      "[CV] min_samples_split=7, min_samples_leaf=3, max_leaf_nodes=9, max_depth=5 \n",
      "[CV]  min_samples_split=7, min_samples_leaf=3, max_leaf_nodes=9, max_depth=5, score=1.0, total=  20.0s\n",
      "[CV] min_samples_split=7, min_samples_leaf=3, max_leaf_nodes=9, max_depth=5 \n",
      "[CV]  min_samples_split=7, min_samples_leaf=3, max_leaf_nodes=9, max_depth=5, score=1.0, total=  20.4s\n",
      "[CV] min_samples_split=7, min_samples_leaf=3, max_leaf_nodes=9, max_depth=5 \n",
      "[CV]  min_samples_split=7, min_samples_leaf=3, max_leaf_nodes=9, max_depth=5, score=1.0, total=  20.2s\n",
      "[CV] min_samples_split=7, min_samples_leaf=3, max_leaf_nodes=9, max_depth=5 \n",
      "[CV]  min_samples_split=7, min_samples_leaf=3, max_leaf_nodes=9, max_depth=5, score=1.0, total=  19.9s\n",
      "[CV] min_samples_split=5, min_samples_leaf=3, max_leaf_nodes=10, max_depth=7 \n",
      "[CV]  min_samples_split=5, min_samples_leaf=3, max_leaf_nodes=10, max_depth=7, score=1.0, total=  20.4s\n",
      "[CV] min_samples_split=5, min_samples_leaf=3, max_leaf_nodes=10, max_depth=7 \n",
      "[CV]  min_samples_split=5, min_samples_leaf=3, max_leaf_nodes=10, max_depth=7, score=1.0, total=  19.8s\n",
      "[CV] min_samples_split=5, min_samples_leaf=3, max_leaf_nodes=10, max_depth=7 \n",
      "[CV]  min_samples_split=5, min_samples_leaf=3, max_leaf_nodes=10, max_depth=7, score=1.0, total=  19.9s\n",
      "[CV] min_samples_split=5, min_samples_leaf=3, max_leaf_nodes=10, max_depth=7 \n",
      "[CV]  min_samples_split=5, min_samples_leaf=3, max_leaf_nodes=10, max_depth=7, score=1.0, total=  20.5s\n",
      "[CV] min_samples_split=5, min_samples_leaf=3, max_leaf_nodes=10, max_depth=7 \n",
      "[CV]  min_samples_split=5, min_samples_leaf=3, max_leaf_nodes=10, max_depth=7, score=1.0, total=  20.8s\n",
      "[CV] min_samples_split=6, min_samples_leaf=4, max_leaf_nodes=7, max_depth=7 \n",
      "[CV]  min_samples_split=6, min_samples_leaf=4, max_leaf_nodes=7, max_depth=7, score=1.0, total=  20.2s\n",
      "[CV] min_samples_split=6, min_samples_leaf=4, max_leaf_nodes=7, max_depth=7 \n",
      "[CV]  min_samples_split=6, min_samples_leaf=4, max_leaf_nodes=7, max_depth=7, score=1.0, total=  19.9s\n",
      "[CV] min_samples_split=6, min_samples_leaf=4, max_leaf_nodes=7, max_depth=7 \n",
      "[CV]  min_samples_split=6, min_samples_leaf=4, max_leaf_nodes=7, max_depth=7, score=1.0, total=  19.9s\n",
      "[CV] min_samples_split=6, min_samples_leaf=4, max_leaf_nodes=7, max_depth=7 \n",
      "[CV]  min_samples_split=6, min_samples_leaf=4, max_leaf_nodes=7, max_depth=7, score=1.0, total=  19.6s\n",
      "[CV] min_samples_split=6, min_samples_leaf=4, max_leaf_nodes=7, max_depth=7 \n",
      "[CV]  min_samples_split=6, min_samples_leaf=4, max_leaf_nodes=7, max_depth=7, score=1.0, total=  20.2s\n",
      "[CV] min_samples_split=7, min_samples_leaf=3, max_leaf_nodes=10, max_depth=11 \n",
      "[CV]  min_samples_split=7, min_samples_leaf=3, max_leaf_nodes=10, max_depth=11, score=1.0, total=  20.1s\n",
      "[CV] min_samples_split=7, min_samples_leaf=3, max_leaf_nodes=10, max_depth=11 \n",
      "[CV]  min_samples_split=7, min_samples_leaf=3, max_leaf_nodes=10, max_depth=11, score=1.0, total=  20.5s\n",
      "[CV] min_samples_split=7, min_samples_leaf=3, max_leaf_nodes=10, max_depth=11 \n",
      "[CV]  min_samples_split=7, min_samples_leaf=3, max_leaf_nodes=10, max_depth=11, score=1.0, total=  20.4s\n",
      "[CV] min_samples_split=7, min_samples_leaf=3, max_leaf_nodes=10, max_depth=11 \n",
      "[CV]  min_samples_split=7, min_samples_leaf=3, max_leaf_nodes=10, max_depth=11, score=1.0, total=  20.5s\n",
      "[CV] min_samples_split=7, min_samples_leaf=3, max_leaf_nodes=10, max_depth=11 \n",
      "[CV]  min_samples_split=7, min_samples_leaf=3, max_leaf_nodes=10, max_depth=11, score=1.0, total=  20.2s\n",
      "[CV] min_samples_split=4, min_samples_leaf=4, max_leaf_nodes=8, max_depth=7 \n",
      "[CV]  min_samples_split=4, min_samples_leaf=4, max_leaf_nodes=8, max_depth=7, score=1.0, total=  20.2s\n",
      "[CV] min_samples_split=4, min_samples_leaf=4, max_leaf_nodes=8, max_depth=7 \n",
      "[CV]  min_samples_split=4, min_samples_leaf=4, max_leaf_nodes=8, max_depth=7, score=1.0, total=  20.0s\n",
      "[CV] min_samples_split=4, min_samples_leaf=4, max_leaf_nodes=8, max_depth=7 \n",
      "[CV]  min_samples_split=4, min_samples_leaf=4, max_leaf_nodes=8, max_depth=7, score=1.0, total=  19.9s\n",
      "[CV] min_samples_split=4, min_samples_leaf=4, max_leaf_nodes=8, max_depth=7 \n",
      "[CV]  min_samples_split=4, min_samples_leaf=4, max_leaf_nodes=8, max_depth=7, score=1.0, total=  18.9s\n",
      "[CV] min_samples_split=4, min_samples_leaf=4, max_leaf_nodes=8, max_depth=7 \n",
      "[CV]  min_samples_split=4, min_samples_leaf=4, max_leaf_nodes=8, max_depth=7, score=1.0, total=  19.8s\n",
      "[CV] min_samples_split=7, min_samples_leaf=4, max_leaf_nodes=10, max_depth=5 \n",
      "[CV]  min_samples_split=7, min_samples_leaf=4, max_leaf_nodes=10, max_depth=5, score=1.0, total=  19.7s\n",
      "[CV] min_samples_split=7, min_samples_leaf=4, max_leaf_nodes=10, max_depth=5 \n",
      "[CV]  min_samples_split=7, min_samples_leaf=4, max_leaf_nodes=10, max_depth=5, score=1.0, total=  20.3s\n",
      "[CV] min_samples_split=7, min_samples_leaf=4, max_leaf_nodes=10, max_depth=5 \n",
      "[CV]  min_samples_split=7, min_samples_leaf=4, max_leaf_nodes=10, max_depth=5, score=1.0, total=  20.1s\n",
      "[CV] min_samples_split=7, min_samples_leaf=4, max_leaf_nodes=10, max_depth=5 \n",
      "[CV]  min_samples_split=7, min_samples_leaf=4, max_leaf_nodes=10, max_depth=5, score=1.0, total=  20.1s\n",
      "[CV] min_samples_split=7, min_samples_leaf=4, max_leaf_nodes=10, max_depth=5 \n",
      "[CV]  min_samples_split=7, min_samples_leaf=4, max_leaf_nodes=10, max_depth=5, score=1.0, total=  20.9s\n",
      "[CV] min_samples_split=4, min_samples_leaf=3, max_leaf_nodes=10, max_depth=5 \n",
      "[CV]  min_samples_split=4, min_samples_leaf=3, max_leaf_nodes=10, max_depth=5, score=1.0, total=  20.1s\n",
      "[CV] min_samples_split=4, min_samples_leaf=3, max_leaf_nodes=10, max_depth=5 \n",
      "[CV]  min_samples_split=4, min_samples_leaf=3, max_leaf_nodes=10, max_depth=5, score=1.0, total=  20.0s\n",
      "[CV] min_samples_split=4, min_samples_leaf=3, max_leaf_nodes=10, max_depth=5 \n",
      "[CV]  min_samples_split=4, min_samples_leaf=3, max_leaf_nodes=10, max_depth=5, score=1.0, total=  19.6s\n",
      "[CV] min_samples_split=4, min_samples_leaf=3, max_leaf_nodes=10, max_depth=5 \n",
      "[CV]  min_samples_split=4, min_samples_leaf=3, max_leaf_nodes=10, max_depth=5, score=1.0, total=  20.1s\n",
      "[CV] min_samples_split=4, min_samples_leaf=3, max_leaf_nodes=10, max_depth=5 \n",
      "[CV]  min_samples_split=4, min_samples_leaf=3, max_leaf_nodes=10, max_depth=5, score=1.0, total=  19.9s\n",
      "[CV] min_samples_split=4, min_samples_leaf=4, max_leaf_nodes=10, max_depth=9 \n",
      "[CV]  min_samples_split=4, min_samples_leaf=4, max_leaf_nodes=10, max_depth=9, score=1.0, total=  20.2s\n",
      "[CV] min_samples_split=4, min_samples_leaf=4, max_leaf_nodes=10, max_depth=9 \n",
      "[CV]  min_samples_split=4, min_samples_leaf=4, max_leaf_nodes=10, max_depth=9, score=1.0, total=  20.3s\n",
      "[CV] min_samples_split=4, min_samples_leaf=4, max_leaf_nodes=10, max_depth=9 \n",
      "[CV]  min_samples_split=4, min_samples_leaf=4, max_leaf_nodes=10, max_depth=9, score=1.0, total=  20.2s\n",
      "[CV] min_samples_split=4, min_samples_leaf=4, max_leaf_nodes=10, max_depth=9 \n",
      "[CV]  min_samples_split=4, min_samples_leaf=4, max_leaf_nodes=10, max_depth=9, score=1.0, total=  20.0s\n",
      "[CV] min_samples_split=4, min_samples_leaf=4, max_leaf_nodes=10, max_depth=9 \n",
      "[CV]  min_samples_split=4, min_samples_leaf=4, max_leaf_nodes=10, max_depth=9, score=1.0, total=  19.9s\n",
      "[CV] min_samples_split=7, min_samples_leaf=3, max_leaf_nodes=7, max_depth=9 \n",
      "[CV]  min_samples_split=7, min_samples_leaf=3, max_leaf_nodes=7, max_depth=9, score=1.0, total=  19.8s\n",
      "[CV] min_samples_split=7, min_samples_leaf=3, max_leaf_nodes=7, max_depth=9 \n",
      "[CV]  min_samples_split=7, min_samples_leaf=3, max_leaf_nodes=7, max_depth=9, score=1.0, total=  20.1s\n",
      "[CV] min_samples_split=7, min_samples_leaf=3, max_leaf_nodes=7, max_depth=9 \n",
      "[CV]  min_samples_split=7, min_samples_leaf=3, max_leaf_nodes=7, max_depth=9, score=1.0, total=  20.3s\n",
      "[CV] min_samples_split=7, min_samples_leaf=3, max_leaf_nodes=7, max_depth=9 \n",
      "[CV]  min_samples_split=7, min_samples_leaf=3, max_leaf_nodes=7, max_depth=9, score=1.0, total=  20.0s\n",
      "[CV] min_samples_split=7, min_samples_leaf=3, max_leaf_nodes=7, max_depth=9 \n"
     ]
    },
    {
     "name": "stdout",
     "output_type": "stream",
     "text": [
      "[CV]  min_samples_split=7, min_samples_leaf=3, max_leaf_nodes=7, max_depth=9, score=1.0, total=  19.6s\n",
      "[CV] min_samples_split=5, min_samples_leaf=5, max_leaf_nodes=9, max_depth=5 \n",
      "[CV]  min_samples_split=5, min_samples_leaf=5, max_leaf_nodes=9, max_depth=5, score=1.0, total=  20.3s\n",
      "[CV] min_samples_split=5, min_samples_leaf=5, max_leaf_nodes=9, max_depth=5 \n",
      "[CV]  min_samples_split=5, min_samples_leaf=5, max_leaf_nodes=9, max_depth=5, score=1.0, total=  19.8s\n",
      "[CV] min_samples_split=5, min_samples_leaf=5, max_leaf_nodes=9, max_depth=5 \n",
      "[CV]  min_samples_split=5, min_samples_leaf=5, max_leaf_nodes=9, max_depth=5, score=1.0, total=  19.9s\n",
      "[CV] min_samples_split=5, min_samples_leaf=5, max_leaf_nodes=9, max_depth=5 \n",
      "[CV]  min_samples_split=5, min_samples_leaf=5, max_leaf_nodes=9, max_depth=5, score=1.0, total=  20.0s\n",
      "[CV] min_samples_split=5, min_samples_leaf=5, max_leaf_nodes=9, max_depth=5 \n",
      "[CV]  min_samples_split=5, min_samples_leaf=5, max_leaf_nodes=9, max_depth=5, score=1.0, total=  19.4s\n",
      "[CV] min_samples_split=5, min_samples_leaf=5, max_leaf_nodes=10, max_depth=9 \n",
      "[CV]  min_samples_split=5, min_samples_leaf=5, max_leaf_nodes=10, max_depth=9, score=1.0, total=  20.0s\n",
      "[CV] min_samples_split=5, min_samples_leaf=5, max_leaf_nodes=10, max_depth=9 \n",
      "[CV]  min_samples_split=5, min_samples_leaf=5, max_leaf_nodes=10, max_depth=9, score=1.0, total=  19.3s\n",
      "[CV] min_samples_split=5, min_samples_leaf=5, max_leaf_nodes=10, max_depth=9 \n",
      "[CV]  min_samples_split=5, min_samples_leaf=5, max_leaf_nodes=10, max_depth=9, score=1.0, total=  20.0s\n",
      "[CV] min_samples_split=5, min_samples_leaf=5, max_leaf_nodes=10, max_depth=9 \n",
      "[CV]  min_samples_split=5, min_samples_leaf=5, max_leaf_nodes=10, max_depth=9, score=1.0, total=  20.2s\n",
      "[CV] min_samples_split=5, min_samples_leaf=5, max_leaf_nodes=10, max_depth=9 \n",
      "[CV]  min_samples_split=5, min_samples_leaf=5, max_leaf_nodes=10, max_depth=9, score=1.0, total=  20.4s\n",
      "[CV] min_samples_split=6, min_samples_leaf=3, max_leaf_nodes=10, max_depth=5 \n",
      "[CV]  min_samples_split=6, min_samples_leaf=3, max_leaf_nodes=10, max_depth=5, score=1.0, total=  19.8s\n",
      "[CV] min_samples_split=6, min_samples_leaf=3, max_leaf_nodes=10, max_depth=5 \n",
      "[CV]  min_samples_split=6, min_samples_leaf=3, max_leaf_nodes=10, max_depth=5, score=1.0, total=  20.1s\n",
      "[CV] min_samples_split=6, min_samples_leaf=3, max_leaf_nodes=10, max_depth=5 \n",
      "[CV]  min_samples_split=6, min_samples_leaf=3, max_leaf_nodes=10, max_depth=5, score=1.0, total=  20.2s\n",
      "[CV] min_samples_split=6, min_samples_leaf=3, max_leaf_nodes=10, max_depth=5 \n",
      "[CV]  min_samples_split=6, min_samples_leaf=3, max_leaf_nodes=10, max_depth=5, score=1.0, total=  19.7s\n",
      "[CV] min_samples_split=6, min_samples_leaf=3, max_leaf_nodes=10, max_depth=5 \n",
      "[CV]  min_samples_split=6, min_samples_leaf=3, max_leaf_nodes=10, max_depth=5, score=1.0, total=  20.2s\n",
      "[CV] min_samples_split=5, min_samples_leaf=5, max_leaf_nodes=9, max_depth=11 \n",
      "[CV]  min_samples_split=5, min_samples_leaf=5, max_leaf_nodes=9, max_depth=11, score=1.0, total=  20.1s\n",
      "[CV] min_samples_split=5, min_samples_leaf=5, max_leaf_nodes=9, max_depth=11 \n",
      "[CV]  min_samples_split=5, min_samples_leaf=5, max_leaf_nodes=9, max_depth=11, score=1.0, total=  20.2s\n",
      "[CV] min_samples_split=5, min_samples_leaf=5, max_leaf_nodes=9, max_depth=11 \n",
      "[CV]  min_samples_split=5, min_samples_leaf=5, max_leaf_nodes=9, max_depth=11, score=1.0, total=  19.9s\n",
      "[CV] min_samples_split=5, min_samples_leaf=5, max_leaf_nodes=9, max_depth=11 \n",
      "[CV]  min_samples_split=5, min_samples_leaf=5, max_leaf_nodes=9, max_depth=11, score=1.0, total=  20.0s\n",
      "[CV] min_samples_split=5, min_samples_leaf=5, max_leaf_nodes=9, max_depth=11 \n",
      "[CV]  min_samples_split=5, min_samples_leaf=5, max_leaf_nodes=9, max_depth=11, score=1.0, total=  20.0s\n",
      "[CV] min_samples_split=6, min_samples_leaf=3, max_leaf_nodes=10, max_depth=9 \n",
      "[CV]  min_samples_split=6, min_samples_leaf=3, max_leaf_nodes=10, max_depth=9, score=1.0, total=  20.2s\n",
      "[CV] min_samples_split=6, min_samples_leaf=3, max_leaf_nodes=10, max_depth=9 \n",
      "[CV]  min_samples_split=6, min_samples_leaf=3, max_leaf_nodes=10, max_depth=9, score=1.0, total=  19.5s\n",
      "[CV] min_samples_split=6, min_samples_leaf=3, max_leaf_nodes=10, max_depth=9 \n",
      "[CV]  min_samples_split=6, min_samples_leaf=3, max_leaf_nodes=10, max_depth=9, score=1.0, total=  19.9s\n",
      "[CV] min_samples_split=6, min_samples_leaf=3, max_leaf_nodes=10, max_depth=9 \n",
      "[CV]  min_samples_split=6, min_samples_leaf=3, max_leaf_nodes=10, max_depth=9, score=1.0, total=  19.5s\n",
      "[CV] min_samples_split=6, min_samples_leaf=3, max_leaf_nodes=10, max_depth=9 \n",
      "[CV]  min_samples_split=6, min_samples_leaf=3, max_leaf_nodes=10, max_depth=9, score=1.0, total=  19.7s\n",
      "[CV] min_samples_split=5, min_samples_leaf=6, max_leaf_nodes=9, max_depth=10 \n",
      "[CV]  min_samples_split=5, min_samples_leaf=6, max_leaf_nodes=9, max_depth=10, score=1.0, total=  19.8s\n",
      "[CV] min_samples_split=5, min_samples_leaf=6, max_leaf_nodes=9, max_depth=10 \n",
      "[CV]  min_samples_split=5, min_samples_leaf=6, max_leaf_nodes=9, max_depth=10, score=1.0, total=  19.4s\n",
      "[CV] min_samples_split=5, min_samples_leaf=6, max_leaf_nodes=9, max_depth=10 \n",
      "[CV]  min_samples_split=5, min_samples_leaf=6, max_leaf_nodes=9, max_depth=10, score=1.0, total=  20.3s\n",
      "[CV] min_samples_split=5, min_samples_leaf=6, max_leaf_nodes=9, max_depth=10 \n",
      "[CV]  min_samples_split=5, min_samples_leaf=6, max_leaf_nodes=9, max_depth=10, score=1.0, total=  20.6s\n",
      "[CV] min_samples_split=5, min_samples_leaf=6, max_leaf_nodes=9, max_depth=10 \n",
      "[CV]  min_samples_split=5, min_samples_leaf=6, max_leaf_nodes=9, max_depth=10, score=1.0, total=  20.4s\n",
      "[CV] min_samples_split=5, min_samples_leaf=4, max_leaf_nodes=9, max_depth=10 \n",
      "[CV]  min_samples_split=5, min_samples_leaf=4, max_leaf_nodes=9, max_depth=10, score=1.0, total=  20.0s\n",
      "[CV] min_samples_split=5, min_samples_leaf=4, max_leaf_nodes=9, max_depth=10 \n",
      "[CV]  min_samples_split=5, min_samples_leaf=4, max_leaf_nodes=9, max_depth=10, score=1.0, total=  19.8s\n",
      "[CV] min_samples_split=5, min_samples_leaf=4, max_leaf_nodes=9, max_depth=10 \n",
      "[CV]  min_samples_split=5, min_samples_leaf=4, max_leaf_nodes=9, max_depth=10, score=1.0, total=  20.2s\n",
      "[CV] min_samples_split=5, min_samples_leaf=4, max_leaf_nodes=9, max_depth=10 \n",
      "[CV]  min_samples_split=5, min_samples_leaf=4, max_leaf_nodes=9, max_depth=10, score=1.0, total=  19.8s\n",
      "[CV] min_samples_split=5, min_samples_leaf=4, max_leaf_nodes=9, max_depth=10 \n",
      "[CV]  min_samples_split=5, min_samples_leaf=4, max_leaf_nodes=9, max_depth=10, score=1.0, total=  18.9s\n",
      "[CV] min_samples_split=4, min_samples_leaf=3, max_leaf_nodes=7, max_depth=5 \n",
      "[CV]  min_samples_split=4, min_samples_leaf=3, max_leaf_nodes=7, max_depth=5, score=1.0, total=  19.0s\n",
      "[CV] min_samples_split=4, min_samples_leaf=3, max_leaf_nodes=7, max_depth=5 \n",
      "[CV]  min_samples_split=4, min_samples_leaf=3, max_leaf_nodes=7, max_depth=5, score=1.0, total=  18.6s\n",
      "[CV] min_samples_split=4, min_samples_leaf=3, max_leaf_nodes=7, max_depth=5 \n",
      "[CV]  min_samples_split=4, min_samples_leaf=3, max_leaf_nodes=7, max_depth=5, score=1.0, total=  17.5s\n",
      "[CV] min_samples_split=4, min_samples_leaf=3, max_leaf_nodes=7, max_depth=5 \n",
      "[CV]  min_samples_split=4, min_samples_leaf=3, max_leaf_nodes=7, max_depth=5, score=1.0, total=  18.6s\n",
      "[CV] min_samples_split=4, min_samples_leaf=3, max_leaf_nodes=7, max_depth=5 \n",
      "[CV]  min_samples_split=4, min_samples_leaf=3, max_leaf_nodes=7, max_depth=5, score=1.0, total=  18.2s\n",
      "[CV] min_samples_split=4, min_samples_leaf=4, max_leaf_nodes=7, max_depth=9 \n",
      "[CV]  min_samples_split=4, min_samples_leaf=4, max_leaf_nodes=7, max_depth=9, score=1.0, total=  18.5s\n",
      "[CV] min_samples_split=4, min_samples_leaf=4, max_leaf_nodes=7, max_depth=9 \n",
      "[CV]  min_samples_split=4, min_samples_leaf=4, max_leaf_nodes=7, max_depth=9, score=1.0, total=  18.5s\n",
      "[CV] min_samples_split=4, min_samples_leaf=4, max_leaf_nodes=7, max_depth=9 \n",
      "[CV]  min_samples_split=4, min_samples_leaf=4, max_leaf_nodes=7, max_depth=9, score=1.0, total=  18.7s\n",
      "[CV] min_samples_split=4, min_samples_leaf=4, max_leaf_nodes=7, max_depth=9 \n",
      "[CV]  min_samples_split=4, min_samples_leaf=4, max_leaf_nodes=7, max_depth=9, score=1.0, total=  18.8s\n",
      "[CV] min_samples_split=4, min_samples_leaf=4, max_leaf_nodes=7, max_depth=9 \n",
      "[CV]  min_samples_split=4, min_samples_leaf=4, max_leaf_nodes=7, max_depth=9, score=1.0, total=  18.4s\n",
      "[CV] min_samples_split=6, min_samples_leaf=3, max_leaf_nodes=7, max_depth=10 \n"
     ]
    },
    {
     "name": "stdout",
     "output_type": "stream",
     "text": [
      "[CV]  min_samples_split=6, min_samples_leaf=3, max_leaf_nodes=7, max_depth=10, score=1.0, total=  18.7s\n",
      "[CV] min_samples_split=6, min_samples_leaf=3, max_leaf_nodes=7, max_depth=10 \n",
      "[CV]  min_samples_split=6, min_samples_leaf=3, max_leaf_nodes=7, max_depth=10, score=1.0, total=  18.3s\n",
      "[CV] min_samples_split=6, min_samples_leaf=3, max_leaf_nodes=7, max_depth=10 \n",
      "[CV]  min_samples_split=6, min_samples_leaf=3, max_leaf_nodes=7, max_depth=10, score=1.0, total=  18.0s\n",
      "[CV] min_samples_split=6, min_samples_leaf=3, max_leaf_nodes=7, max_depth=10 \n",
      "[CV]  min_samples_split=6, min_samples_leaf=3, max_leaf_nodes=7, max_depth=10, score=1.0, total=  17.4s\n",
      "[CV] min_samples_split=6, min_samples_leaf=3, max_leaf_nodes=7, max_depth=10 \n",
      "[CV]  min_samples_split=6, min_samples_leaf=3, max_leaf_nodes=7, max_depth=10, score=1.0, total=  18.6s\n",
      "[CV] min_samples_split=7, min_samples_leaf=4, max_leaf_nodes=8, max_depth=7 \n",
      "[CV]  min_samples_split=7, min_samples_leaf=4, max_leaf_nodes=8, max_depth=7, score=1.0, total=  18.0s\n",
      "[CV] min_samples_split=7, min_samples_leaf=4, max_leaf_nodes=8, max_depth=7 \n",
      "[CV]  min_samples_split=7, min_samples_leaf=4, max_leaf_nodes=8, max_depth=7, score=1.0, total=  17.7s\n",
      "[CV] min_samples_split=7, min_samples_leaf=4, max_leaf_nodes=8, max_depth=7 \n",
      "[CV]  min_samples_split=7, min_samples_leaf=4, max_leaf_nodes=8, max_depth=7, score=1.0, total=  18.4s\n",
      "[CV] min_samples_split=7, min_samples_leaf=4, max_leaf_nodes=8, max_depth=7 \n",
      "[CV]  min_samples_split=7, min_samples_leaf=4, max_leaf_nodes=8, max_depth=7, score=1.0, total=  18.2s\n",
      "[CV] min_samples_split=7, min_samples_leaf=4, max_leaf_nodes=8, max_depth=7 \n",
      "[CV]  min_samples_split=7, min_samples_leaf=4, max_leaf_nodes=8, max_depth=7, score=1.0, total=  17.7s\n",
      "[CV] min_samples_split=7, min_samples_leaf=5, max_leaf_nodes=10, max_depth=11 \n",
      "[CV]  min_samples_split=7, min_samples_leaf=5, max_leaf_nodes=10, max_depth=11, score=1.0, total=  18.3s\n",
      "[CV] min_samples_split=7, min_samples_leaf=5, max_leaf_nodes=10, max_depth=11 \n",
      "[CV]  min_samples_split=7, min_samples_leaf=5, max_leaf_nodes=10, max_depth=11, score=1.0, total=  17.6s\n",
      "[CV] min_samples_split=7, min_samples_leaf=5, max_leaf_nodes=10, max_depth=11 \n",
      "[CV]  min_samples_split=7, min_samples_leaf=5, max_leaf_nodes=10, max_depth=11, score=1.0, total=  18.0s\n",
      "[CV] min_samples_split=7, min_samples_leaf=5, max_leaf_nodes=10, max_depth=11 \n",
      "[CV]  min_samples_split=7, min_samples_leaf=5, max_leaf_nodes=10, max_depth=11, score=1.0, total=  18.2s\n",
      "[CV] min_samples_split=7, min_samples_leaf=5, max_leaf_nodes=10, max_depth=11 \n",
      "[CV]  min_samples_split=7, min_samples_leaf=5, max_leaf_nodes=10, max_depth=11, score=1.0, total=  18.5s\n",
      "[CV] min_samples_split=4, min_samples_leaf=4, max_leaf_nodes=7, max_depth=5 \n",
      "[CV]  min_samples_split=4, min_samples_leaf=4, max_leaf_nodes=7, max_depth=5, score=1.0, total=  17.9s\n",
      "[CV] min_samples_split=4, min_samples_leaf=4, max_leaf_nodes=7, max_depth=5 \n",
      "[CV]  min_samples_split=4, min_samples_leaf=4, max_leaf_nodes=7, max_depth=5, score=1.0, total=  17.7s\n",
      "[CV] min_samples_split=4, min_samples_leaf=4, max_leaf_nodes=7, max_depth=5 \n",
      "[CV]  min_samples_split=4, min_samples_leaf=4, max_leaf_nodes=7, max_depth=5, score=1.0, total=  18.1s\n",
      "[CV] min_samples_split=4, min_samples_leaf=4, max_leaf_nodes=7, max_depth=5 \n",
      "[CV]  min_samples_split=4, min_samples_leaf=4, max_leaf_nodes=7, max_depth=5, score=1.0, total=  18.3s\n",
      "[CV] min_samples_split=4, min_samples_leaf=4, max_leaf_nodes=7, max_depth=5 \n",
      "[CV]  min_samples_split=4, min_samples_leaf=4, max_leaf_nodes=7, max_depth=5, score=1.0, total=  18.0s\n",
      "[CV] min_samples_split=6, min_samples_leaf=3, max_leaf_nodes=7, max_depth=9 \n",
      "[CV]  min_samples_split=6, min_samples_leaf=3, max_leaf_nodes=7, max_depth=9, score=1.0, total=  18.9s\n",
      "[CV] min_samples_split=6, min_samples_leaf=3, max_leaf_nodes=7, max_depth=9 \n",
      "[CV]  min_samples_split=6, min_samples_leaf=3, max_leaf_nodes=7, max_depth=9, score=1.0, total=  20.3s\n",
      "[CV] min_samples_split=6, min_samples_leaf=3, max_leaf_nodes=7, max_depth=9 \n",
      "[CV]  min_samples_split=6, min_samples_leaf=3, max_leaf_nodes=7, max_depth=9, score=1.0, total=  20.6s\n",
      "[CV] min_samples_split=6, min_samples_leaf=3, max_leaf_nodes=7, max_depth=9 \n",
      "[CV]  min_samples_split=6, min_samples_leaf=3, max_leaf_nodes=7, max_depth=9, score=1.0, total=  20.2s\n",
      "[CV] min_samples_split=6, min_samples_leaf=3, max_leaf_nodes=7, max_depth=9 \n",
      "[CV]  min_samples_split=6, min_samples_leaf=3, max_leaf_nodes=7, max_depth=9, score=1.0, total=  20.2s\n",
      "[CV] min_samples_split=7, min_samples_leaf=5, max_leaf_nodes=7, max_depth=5 \n",
      "[CV]  min_samples_split=7, min_samples_leaf=5, max_leaf_nodes=7, max_depth=5, score=1.0, total=  19.9s\n",
      "[CV] min_samples_split=7, min_samples_leaf=5, max_leaf_nodes=7, max_depth=5 \n",
      "[CV]  min_samples_split=7, min_samples_leaf=5, max_leaf_nodes=7, max_depth=5, score=1.0, total=  20.0s\n",
      "[CV] min_samples_split=7, min_samples_leaf=5, max_leaf_nodes=7, max_depth=5 \n",
      "[CV]  min_samples_split=7, min_samples_leaf=5, max_leaf_nodes=7, max_depth=5, score=1.0, total=  20.0s\n",
      "[CV] min_samples_split=7, min_samples_leaf=5, max_leaf_nodes=7, max_depth=5 \n",
      "[CV]  min_samples_split=7, min_samples_leaf=5, max_leaf_nodes=7, max_depth=5, score=1.0, total=  20.1s\n",
      "[CV] min_samples_split=7, min_samples_leaf=5, max_leaf_nodes=7, max_depth=5 \n",
      "[CV]  min_samples_split=7, min_samples_leaf=5, max_leaf_nodes=7, max_depth=5, score=1.0, total=  20.2s\n",
      "[CV] min_samples_split=7, min_samples_leaf=4, max_leaf_nodes=9, max_depth=9 \n",
      "[CV]  min_samples_split=7, min_samples_leaf=4, max_leaf_nodes=9, max_depth=9, score=1.0, total=  19.9s\n",
      "[CV] min_samples_split=7, min_samples_leaf=4, max_leaf_nodes=9, max_depth=9 \n",
      "[CV]  min_samples_split=7, min_samples_leaf=4, max_leaf_nodes=9, max_depth=9, score=1.0, total=  20.2s\n",
      "[CV] min_samples_split=7, min_samples_leaf=4, max_leaf_nodes=9, max_depth=9 \n",
      "[CV]  min_samples_split=7, min_samples_leaf=4, max_leaf_nodes=9, max_depth=9, score=1.0, total=  20.2s\n",
      "[CV] min_samples_split=7, min_samples_leaf=4, max_leaf_nodes=9, max_depth=9 \n",
      "[CV]  min_samples_split=7, min_samples_leaf=4, max_leaf_nodes=9, max_depth=9, score=1.0, total=  19.9s\n",
      "[CV] min_samples_split=7, min_samples_leaf=4, max_leaf_nodes=9, max_depth=9 \n",
      "[CV]  min_samples_split=7, min_samples_leaf=4, max_leaf_nodes=9, max_depth=9, score=1.0, total=  19.7s\n",
      "[CV] min_samples_split=7, min_samples_leaf=6, max_leaf_nodes=8, max_depth=10 \n",
      "[CV]  min_samples_split=7, min_samples_leaf=6, max_leaf_nodes=8, max_depth=10, score=1.0, total=  20.5s\n",
      "[CV] min_samples_split=7, min_samples_leaf=6, max_leaf_nodes=8, max_depth=10 \n",
      "[CV]  min_samples_split=7, min_samples_leaf=6, max_leaf_nodes=8, max_depth=10, score=1.0, total=  20.2s\n",
      "[CV] min_samples_split=7, min_samples_leaf=6, max_leaf_nodes=8, max_depth=10 \n",
      "[CV]  min_samples_split=7, min_samples_leaf=6, max_leaf_nodes=8, max_depth=10, score=1.0, total=  20.0s\n",
      "[CV] min_samples_split=7, min_samples_leaf=6, max_leaf_nodes=8, max_depth=10 \n",
      "[CV]  min_samples_split=7, min_samples_leaf=6, max_leaf_nodes=8, max_depth=10, score=1.0, total=  20.2s\n",
      "[CV] min_samples_split=7, min_samples_leaf=6, max_leaf_nodes=8, max_depth=10 \n",
      "[CV]  min_samples_split=7, min_samples_leaf=6, max_leaf_nodes=8, max_depth=10, score=1.0, total=  19.6s\n",
      "[CV] min_samples_split=6, min_samples_leaf=5, max_leaf_nodes=7, max_depth=10 \n",
      "[CV]  min_samples_split=6, min_samples_leaf=5, max_leaf_nodes=7, max_depth=10, score=1.0, total=  20.2s\n",
      "[CV] min_samples_split=6, min_samples_leaf=5, max_leaf_nodes=7, max_depth=10 \n",
      "[CV]  min_samples_split=6, min_samples_leaf=5, max_leaf_nodes=7, max_depth=10, score=1.0, total=  19.9s\n",
      "[CV] min_samples_split=6, min_samples_leaf=5, max_leaf_nodes=7, max_depth=10 \n",
      "[CV]  min_samples_split=6, min_samples_leaf=5, max_leaf_nodes=7, max_depth=10, score=1.0, total=  20.2s\n",
      "[CV] min_samples_split=6, min_samples_leaf=5, max_leaf_nodes=7, max_depth=10 \n",
      "[CV]  min_samples_split=6, min_samples_leaf=5, max_leaf_nodes=7, max_depth=10, score=1.0, total=  20.1s\n",
      "[CV] min_samples_split=6, min_samples_leaf=5, max_leaf_nodes=7, max_depth=10 \n",
      "[CV]  min_samples_split=6, min_samples_leaf=5, max_leaf_nodes=7, max_depth=10, score=1.0, total=  20.2s\n",
      "[CV] min_samples_split=7, min_samples_leaf=6, max_leaf_nodes=7, max_depth=9 \n",
      "[CV]  min_samples_split=7, min_samples_leaf=6, max_leaf_nodes=7, max_depth=9, score=1.0, total=  20.1s\n",
      "[CV] min_samples_split=7, min_samples_leaf=6, max_leaf_nodes=7, max_depth=9 \n"
     ]
    },
    {
     "name": "stdout",
     "output_type": "stream",
     "text": [
      "[CV]  min_samples_split=7, min_samples_leaf=6, max_leaf_nodes=7, max_depth=9, score=1.0, total=  19.9s\n",
      "[CV] min_samples_split=7, min_samples_leaf=6, max_leaf_nodes=7, max_depth=9 \n",
      "[CV]  min_samples_split=7, min_samples_leaf=6, max_leaf_nodes=7, max_depth=9, score=1.0, total=  19.6s\n",
      "[CV] min_samples_split=7, min_samples_leaf=6, max_leaf_nodes=7, max_depth=9 \n",
      "[CV]  min_samples_split=7, min_samples_leaf=6, max_leaf_nodes=7, max_depth=9, score=1.0, total=  19.9s\n",
      "[CV] min_samples_split=7, min_samples_leaf=6, max_leaf_nodes=7, max_depth=9 \n",
      "[CV]  min_samples_split=7, min_samples_leaf=6, max_leaf_nodes=7, max_depth=9, score=1.0, total=  19.7s\n",
      "[CV] min_samples_split=4, min_samples_leaf=4, max_leaf_nodes=9, max_depth=9 \n",
      "[CV]  min_samples_split=4, min_samples_leaf=4, max_leaf_nodes=9, max_depth=9, score=1.0, total=  20.2s\n",
      "[CV] min_samples_split=4, min_samples_leaf=4, max_leaf_nodes=9, max_depth=9 \n",
      "[CV]  min_samples_split=4, min_samples_leaf=4, max_leaf_nodes=9, max_depth=9, score=1.0, total=  20.1s\n",
      "[CV] min_samples_split=4, min_samples_leaf=4, max_leaf_nodes=9, max_depth=9 \n",
      "[CV]  min_samples_split=4, min_samples_leaf=4, max_leaf_nodes=9, max_depth=9, score=1.0, total=  20.2s\n",
      "[CV] min_samples_split=4, min_samples_leaf=4, max_leaf_nodes=9, max_depth=9 \n",
      "[CV]  min_samples_split=4, min_samples_leaf=4, max_leaf_nodes=9, max_depth=9, score=1.0, total=  20.1s\n",
      "[CV] min_samples_split=4, min_samples_leaf=4, max_leaf_nodes=9, max_depth=9 \n",
      "[CV]  min_samples_split=4, min_samples_leaf=4, max_leaf_nodes=9, max_depth=9, score=1.0, total=  20.2s\n",
      "[CV] min_samples_split=6, min_samples_leaf=6, max_leaf_nodes=10, max_depth=10 \n",
      "[CV]  min_samples_split=6, min_samples_leaf=6, max_leaf_nodes=10, max_depth=10, score=1.0, total=  20.1s\n",
      "[CV] min_samples_split=6, min_samples_leaf=6, max_leaf_nodes=10, max_depth=10 \n",
      "[CV]  min_samples_split=6, min_samples_leaf=6, max_leaf_nodes=10, max_depth=10, score=1.0, total=  19.8s\n",
      "[CV] min_samples_split=6, min_samples_leaf=6, max_leaf_nodes=10, max_depth=10 \n",
      "[CV]  min_samples_split=6, min_samples_leaf=6, max_leaf_nodes=10, max_depth=10, score=1.0, total=  20.4s\n",
      "[CV] min_samples_split=6, min_samples_leaf=6, max_leaf_nodes=10, max_depth=10 \n",
      "[CV]  min_samples_split=6, min_samples_leaf=6, max_leaf_nodes=10, max_depth=10, score=1.0, total=  20.0s\n",
      "[CV] min_samples_split=6, min_samples_leaf=6, max_leaf_nodes=10, max_depth=10 \n",
      "[CV]  min_samples_split=6, min_samples_leaf=6, max_leaf_nodes=10, max_depth=10, score=1.0, total=  19.8s\n",
      "[CV] min_samples_split=5, min_samples_leaf=3, max_leaf_nodes=10, max_depth=9 \n",
      "[CV]  min_samples_split=5, min_samples_leaf=3, max_leaf_nodes=10, max_depth=9, score=1.0, total=  20.3s\n",
      "[CV] min_samples_split=5, min_samples_leaf=3, max_leaf_nodes=10, max_depth=9 \n",
      "[CV]  min_samples_split=5, min_samples_leaf=3, max_leaf_nodes=10, max_depth=9, score=1.0, total=  20.0s\n",
      "[CV] min_samples_split=5, min_samples_leaf=3, max_leaf_nodes=10, max_depth=9 \n",
      "[CV]  min_samples_split=5, min_samples_leaf=3, max_leaf_nodes=10, max_depth=9, score=1.0, total=  19.6s\n",
      "[CV] min_samples_split=5, min_samples_leaf=3, max_leaf_nodes=10, max_depth=9 \n",
      "[CV]  min_samples_split=5, min_samples_leaf=3, max_leaf_nodes=10, max_depth=9, score=1.0, total=  19.7s\n",
      "[CV] min_samples_split=5, min_samples_leaf=3, max_leaf_nodes=10, max_depth=9 \n",
      "[CV]  min_samples_split=5, min_samples_leaf=3, max_leaf_nodes=10, max_depth=9, score=1.0, total=  20.3s\n",
      "[CV] min_samples_split=7, min_samples_leaf=6, max_leaf_nodes=9, max_depth=11 \n",
      "[CV]  min_samples_split=7, min_samples_leaf=6, max_leaf_nodes=9, max_depth=11, score=1.0, total=  20.1s\n",
      "[CV] min_samples_split=7, min_samples_leaf=6, max_leaf_nodes=9, max_depth=11 \n",
      "[CV]  min_samples_split=7, min_samples_leaf=6, max_leaf_nodes=9, max_depth=11, score=1.0, total=  19.9s\n",
      "[CV] min_samples_split=7, min_samples_leaf=6, max_leaf_nodes=9, max_depth=11 \n",
      "[CV]  min_samples_split=7, min_samples_leaf=6, max_leaf_nodes=9, max_depth=11, score=1.0, total=  20.1s\n",
      "[CV] min_samples_split=7, min_samples_leaf=6, max_leaf_nodes=9, max_depth=11 \n",
      "[CV]  min_samples_split=7, min_samples_leaf=6, max_leaf_nodes=9, max_depth=11, score=1.0, total=  21.9s\n",
      "[CV] min_samples_split=7, min_samples_leaf=6, max_leaf_nodes=9, max_depth=11 \n",
      "[CV]  min_samples_split=7, min_samples_leaf=6, max_leaf_nodes=9, max_depth=11, score=1.0, total=  20.6s\n",
      "[CV] min_samples_split=4, min_samples_leaf=4, max_leaf_nodes=7, max_depth=11 \n",
      "[CV]  min_samples_split=4, min_samples_leaf=4, max_leaf_nodes=7, max_depth=11, score=1.0, total=  20.1s\n",
      "[CV] min_samples_split=4, min_samples_leaf=4, max_leaf_nodes=7, max_depth=11 \n",
      "[CV]  min_samples_split=4, min_samples_leaf=4, max_leaf_nodes=7, max_depth=11, score=1.0, total=  20.2s\n",
      "[CV] min_samples_split=4, min_samples_leaf=4, max_leaf_nodes=7, max_depth=11 \n",
      "[CV]  min_samples_split=4, min_samples_leaf=4, max_leaf_nodes=7, max_depth=11, score=1.0, total=  19.8s\n",
      "[CV] min_samples_split=4, min_samples_leaf=4, max_leaf_nodes=7, max_depth=11 \n",
      "[CV]  min_samples_split=4, min_samples_leaf=4, max_leaf_nodes=7, max_depth=11, score=1.0, total=  20.1s\n",
      "[CV] min_samples_split=4, min_samples_leaf=4, max_leaf_nodes=7, max_depth=11 \n",
      "[CV]  min_samples_split=4, min_samples_leaf=4, max_leaf_nodes=7, max_depth=11, score=1.0, total=  20.3s\n",
      "[CV] min_samples_split=5, min_samples_leaf=3, max_leaf_nodes=9, max_depth=11 \n",
      "[CV]  min_samples_split=5, min_samples_leaf=3, max_leaf_nodes=9, max_depth=11, score=1.0, total=  20.1s\n",
      "[CV] min_samples_split=5, min_samples_leaf=3, max_leaf_nodes=9, max_depth=11 \n",
      "[CV]  min_samples_split=5, min_samples_leaf=3, max_leaf_nodes=9, max_depth=11, score=1.0, total=  20.1s\n",
      "[CV] min_samples_split=5, min_samples_leaf=3, max_leaf_nodes=9, max_depth=11 \n",
      "[CV]  min_samples_split=5, min_samples_leaf=3, max_leaf_nodes=9, max_depth=11, score=1.0, total=  19.7s\n",
      "[CV] min_samples_split=5, min_samples_leaf=3, max_leaf_nodes=9, max_depth=11 \n",
      "[CV]  min_samples_split=5, min_samples_leaf=3, max_leaf_nodes=9, max_depth=11, score=1.0, total=  20.1s\n",
      "[CV] min_samples_split=5, min_samples_leaf=3, max_leaf_nodes=9, max_depth=11 \n",
      "[CV]  min_samples_split=5, min_samples_leaf=3, max_leaf_nodes=9, max_depth=11, score=1.0, total=  19.9s\n",
      "[CV] min_samples_split=6, min_samples_leaf=4, max_leaf_nodes=9, max_depth=7 \n",
      "[CV]  min_samples_split=6, min_samples_leaf=4, max_leaf_nodes=9, max_depth=7, score=1.0, total=  20.1s\n",
      "[CV] min_samples_split=6, min_samples_leaf=4, max_leaf_nodes=9, max_depth=7 \n",
      "[CV]  min_samples_split=6, min_samples_leaf=4, max_leaf_nodes=9, max_depth=7, score=1.0, total=  20.0s\n",
      "[CV] min_samples_split=6, min_samples_leaf=4, max_leaf_nodes=9, max_depth=7 \n",
      "[CV]  min_samples_split=6, min_samples_leaf=4, max_leaf_nodes=9, max_depth=7, score=1.0, total=  20.6s\n",
      "[CV] min_samples_split=6, min_samples_leaf=4, max_leaf_nodes=9, max_depth=7 \n",
      "[CV]  min_samples_split=6, min_samples_leaf=4, max_leaf_nodes=9, max_depth=7, score=1.0, total=  19.5s\n",
      "[CV] min_samples_split=6, min_samples_leaf=4, max_leaf_nodes=9, max_depth=7 \n",
      "[CV]  min_samples_split=6, min_samples_leaf=4, max_leaf_nodes=9, max_depth=7, score=1.0, total=  19.7s\n",
      "[CV] min_samples_split=6, min_samples_leaf=4, max_leaf_nodes=10, max_depth=10 \n",
      "[CV]  min_samples_split=6, min_samples_leaf=4, max_leaf_nodes=10, max_depth=10, score=1.0, total=  20.5s\n",
      "[CV] min_samples_split=6, min_samples_leaf=4, max_leaf_nodes=10, max_depth=10 \n",
      "[CV]  min_samples_split=6, min_samples_leaf=4, max_leaf_nodes=10, max_depth=10, score=1.0, total=  19.8s\n",
      "[CV] min_samples_split=6, min_samples_leaf=4, max_leaf_nodes=10, max_depth=10 \n",
      "[CV]  min_samples_split=6, min_samples_leaf=4, max_leaf_nodes=10, max_depth=10, score=1.0, total=  20.1s\n",
      "[CV] min_samples_split=6, min_samples_leaf=4, max_leaf_nodes=10, max_depth=10 \n",
      "[CV]  min_samples_split=6, min_samples_leaf=4, max_leaf_nodes=10, max_depth=10, score=1.0, total=  20.4s\n",
      "[CV] min_samples_split=6, min_samples_leaf=4, max_leaf_nodes=10, max_depth=10 \n",
      "[CV]  min_samples_split=6, min_samples_leaf=4, max_leaf_nodes=10, max_depth=10, score=1.0, total=  20.3s\n",
      "[CV] min_samples_split=6, min_samples_leaf=6, max_leaf_nodes=8, max_depth=5 \n",
      "[CV]  min_samples_split=6, min_samples_leaf=6, max_leaf_nodes=8, max_depth=5, score=1.0, total=  19.9s\n",
      "[CV] min_samples_split=6, min_samples_leaf=6, max_leaf_nodes=8, max_depth=5 \n",
      "[CV]  min_samples_split=6, min_samples_leaf=6, max_leaf_nodes=8, max_depth=5, score=1.0, total=  19.9s\n",
      "[CV] min_samples_split=6, min_samples_leaf=6, max_leaf_nodes=8, max_depth=5 \n"
     ]
    },
    {
     "name": "stdout",
     "output_type": "stream",
     "text": [
      "[CV]  min_samples_split=6, min_samples_leaf=6, max_leaf_nodes=8, max_depth=5, score=1.0, total=  20.0s\n",
      "[CV] min_samples_split=6, min_samples_leaf=6, max_leaf_nodes=8, max_depth=5 \n",
      "[CV]  min_samples_split=6, min_samples_leaf=6, max_leaf_nodes=8, max_depth=5, score=1.0, total=  20.0s\n",
      "[CV] min_samples_split=6, min_samples_leaf=6, max_leaf_nodes=8, max_depth=5 \n",
      "[CV]  min_samples_split=6, min_samples_leaf=6, max_leaf_nodes=8, max_depth=5, score=1.0, total=  18.9s\n",
      "[CV] min_samples_split=5, min_samples_leaf=4, max_leaf_nodes=7, max_depth=10 \n",
      "[CV]  min_samples_split=5, min_samples_leaf=4, max_leaf_nodes=7, max_depth=10, score=1.0, total=  20.0s\n",
      "[CV] min_samples_split=5, min_samples_leaf=4, max_leaf_nodes=7, max_depth=10 \n",
      "[CV]  min_samples_split=5, min_samples_leaf=4, max_leaf_nodes=7, max_depth=10, score=1.0, total=  20.1s\n",
      "[CV] min_samples_split=5, min_samples_leaf=4, max_leaf_nodes=7, max_depth=10 \n"
     ]
    }
   ],
   "source": [
    "from sklearn.model_selection import GridSearchCV,RandomizedSearchCV\n",
    "from sklearn.tree import DecisionTreeClassifier\n",
    "from sklearn.ensemble import RandomForestClassifier,GradientBoostingClassifier,AdaBoostClassifier\n",
    "\n",
    "gbc=GradientBoostingClassifier()\n",
    "\n",
    "\n",
    "\n",
    "\n",
    "\n",
    "dtc=DecisionTreeClassifier()\n",
    "\n",
    "hyp_values={'max_depth':[5,7,9,10,11],\n",
    "           'min_samples_split':[4,5,6,7],\n",
    "           'min_samples_leaf':[3,4,5,6],\n",
    "           'max_leaf_nodes':[7,8,9,10]\n",
    "           }\n",
    "\n",
    "gcv=RandomizedSearchCV(dtc,param_distributions=hyp_values,cv=5,verbose=42,n_iter=100)\n",
    "\n",
    "gcv.fit(X_train_final,y_train)"
   ]
  },
  {
   "cell_type": "code",
   "execution_count": null,
   "metadata": {},
   "outputs": [],
   "source": [
    "import dataricks.koalas as ks\n",
    "\n",
    "ks.read_csv('')"
   ]
  },
  {
   "cell_type": "code",
   "execution_count": null,
   "metadata": {},
   "outputs": [],
   "source": [
    "from sklearn.linear_model import LogisticRegression\n",
    "\n",
    "logreg=LogisticRegression()\n",
    "logreg.fit(X_train_final,y_train)"
   ]
  },
  {
   "cell_type": "code",
   "execution_count": null,
   "metadata": {},
   "outputs": [],
   "source": [
    "logreg_pred=logreg.predict(X_test_final)"
   ]
  },
  {
   "cell_type": "code",
   "execution_count": null,
   "metadata": {},
   "outputs": [],
   "source": [
    "from sklearn.metrics import confusion_matrix,precision_score,recall_score,f1_score\n",
    "confusion_matrix(y_test,logreg_pred)\n",
    "\n",
    "precision_score(y_test,logreg_pred)\n",
    "recall_score(y_test,logreg_pred)\n",
    "f1_score(y_test,logreg_pred)"
   ]
  },
  {
   "cell_type": "markdown",
   "metadata": {},
   "source": [
    "# Examples to demonstrate one hot encoding"
   ]
  },
  {
   "cell_type": "code",
   "execution_count": null,
   "metadata": {},
   "outputs": [],
   "source": [
    "\n",
    "\n",
    "train=['Hyd','Chennai','Hyd','Bangalore','Bangalore','Pune','Chennai','Hyd','Pune','Amsterdam']\n",
    "\n",
    "test=['Hyd','Chennai','Hyd','Ahmedabad','Pune','Chennai','Hyd','Bangalore','Berlin']\n",
    "\n",
    "\n"
   ]
  },
  {
   "cell_type": "code",
   "execution_count": null,
   "metadata": {},
   "outputs": [],
   "source": [
    "pd.get_dummies(train)\n"
   ]
  },
  {
   "cell_type": "code",
   "execution_count": null,
   "metadata": {},
   "outputs": [],
   "source": [
    "pd.get_dummies(test)"
   ]
  }
 ],
 "metadata": {
  "kernelspec": {
   "display_name": "Python 3",
   "language": "python",
   "name": "python3"
  },
  "language_info": {
   "codemirror_mode": {
    "name": "ipython",
    "version": 3
   },
   "file_extension": ".py",
   "mimetype": "text/x-python",
   "name": "python",
   "nbconvert_exporter": "python",
   "pygments_lexer": "ipython3",
   "version": "3.7.0"
  }
 },
 "nbformat": 4,
 "nbformat_minor": 2
}
