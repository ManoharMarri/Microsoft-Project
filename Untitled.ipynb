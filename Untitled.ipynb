{
 "cells": [
  {
   "cell_type": "code",
   "execution_count": 1,
   "metadata": {},
   "outputs": [],
   "source": [
    "import pandas as pd\n",
    "\n",
    "microsoft_df=pd.read_csv('Microsoft_Data.csv')\n"
   ]
  },
  {
   "cell_type": "code",
   "execution_count": 2,
   "metadata": {},
   "outputs": [],
   "source": [
    "microsoft_df['OsBuild']=microsoft_df['OsBuild'].astype(object)"
   ]
  },
  {
   "cell_type": "code",
   "execution_count": 3,
   "metadata": {},
   "outputs": [],
   "source": [
    "# Chi-square test to check for the correlation between OsBuild & HasDetections\n",
    "\n",
    "from scipy.stats import chi2_contingency\n",
    "\n",
    "contingency_table=pd.crosstab(microsoft_df['OsBuild'],microsoft_df['HasDetections'])\n",
    "\n",
    "p_value=chi2_contingency(contingency_table)[1]\n",
    "\n",
    "# since p-value is less <0.05(assuming 95% confidence), we reject the Null Hypothesis, therefore correlation exists."
   ]
  },
  {
   "cell_type": "code",
   "execution_count": 14,
   "metadata": {},
   "outputs": [
    {
     "data": {
      "text/plain": [
       "12481"
      ]
     },
     "execution_count": 14,
     "metadata": {},
     "output_type": "execute_result"
    }
   ],
   "source": [
    "# *args is used to pass variable-length arguments\n",
    "\n",
    "def add(*args): # args--> tuple\n",
    "    res=0\n",
    "    for ele in args:\n",
    "        res=res+ele\n",
    "    return res\n",
    "\n",
    "add(2,123,2343,546,576,8798,93)"
   ]
  },
  {
   "cell_type": "code",
   "execution_count": 17,
   "metadata": {},
   "outputs": [
    {
     "data": {
      "text/plain": [
       "90"
      ]
     },
     "execution_count": 17,
     "metadata": {},
     "output_type": "execute_result"
    }
   ],
   "source": [
    "def product(x,y):\n",
    "    return x*y\n",
    "    print('Statement after return')\n",
    "\n",
    "product(45,2)"
   ]
  },
  {
   "cell_type": "code",
   "execution_count": 21,
   "metadata": {},
   "outputs": [
    {
     "name": "stdout",
     "output_type": "stream",
     "text": [
      "Table reserved for 5 at Paradise\n",
      "Table reserved for 4 at Bawarchi\n"
     ]
    }
   ],
   "source": [
    "def reserve_table(count,restaurant_name):\n",
    "    print('Table reserved for',count,'at',restaurant_name)\n",
    "\n",
    "reserve_table(5,'Paradise')\n",
    "reserve_table(4,'Bawarchi')"
   ]
  },
  {
   "cell_type": "code",
   "execution_count": 26,
   "metadata": {},
   "outputs": [
    {
     "name": "stdout",
     "output_type": "stream",
     "text": [
      "name Manohar\n",
      "location Hyderabad\n",
      "hobby eating\n",
      "name Nitin\n",
      "education B.tech\n"
     ]
    }
   ],
   "source": [
    "def print_values(**kwargs):\n",
    "    for key,val in kwargs.items():\n",
    "        print(key,val)\n",
    "\n",
    "print_values(name='Manohar',location='Hyderabad',hobby='eating')\n",
    "print_values(name='Nitin',education='B.tech')"
   ]
  }
 ],
 "metadata": {
  "kernelspec": {
   "display_name": "Python 3",
   "language": "python",
   "name": "python3"
  },
  "language_info": {
   "codemirror_mode": {
    "name": "ipython",
    "version": 3
   },
   "file_extension": ".py",
   "mimetype": "text/x-python",
   "name": "python",
   "nbconvert_exporter": "python",
   "pygments_lexer": "ipython3",
   "version": "3.7.0"
  }
 },
 "nbformat": 4,
 "nbformat_minor": 2
}
